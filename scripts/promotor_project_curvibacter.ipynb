{
 "cells": [
  {
   "cell_type": "code",
   "execution_count": 85,
   "id": "c5c7d22c",
   "metadata": {},
   "outputs": [],
   "source": [
    "# importing required modules\n",
    "from os.path import isfile, isdir\n",
    "from os import mkdir\n",
    "import pandas as pd\n",
    "import numpy as np\n",
    "import matplotlib.pyplot as plt\n",
    "from scipy import interpolate\n",
    "from scipy.signal import savgol_filter"
   ]
  },
  {
   "cell_type": "code",
   "execution_count": 50,
   "id": "63b582da",
   "metadata": {},
   "outputs": [],
   "source": [
    "# setting up the correct paths\n",
    "result_path = \"../results/\"\n",
    "data_path = \"../data/\""
   ]
  },
  {
   "cell_type": "code",
   "execution_count": 51,
   "id": "6ae49ca2",
   "metadata": {},
   "outputs": [
    {
     "name": "stdout",
     "output_type": "stream",
     "text": [
      "excel_sheet_ordered_degs_curvibacter_aep_to_wp.xlsx\r\n",
      "raw_read_counts.csv\r\n",
      "small_target_promotors.xlsx\r\n",
      "target_promotors.xlsx\r\n"
     ]
    }
   ],
   "source": [
    "# decompress meta_data for plots\n",
    "xztarfile = data_path+\"meta_data.tar.xz\"\n",
    "tarfile = data_path+\"meta_data.tar\"\n",
    "if isfile(xztarfile):\n",
    "    !xz -d -v $xztarfile\n",
    "\n",
    "if isfile(tarfile):\n",
    "    !tar -xvf $tarfile -C ../data/"
   ]
  },
  {
   "cell_type": "code",
   "execution_count": 52,
   "id": "f21113b8",
   "metadata": {},
   "outputs": [],
   "source": [
    "# overview\n",
    "# 470 green\n",
    "# 570 red\n",
    "# J23100 == CPL_0017"
   ]
  },
  {
   "cell_type": "code",
   "execution_count": 53,
   "id": "18e4ab84",
   "metadata": {},
   "outputs": [],
   "source": [
    "'''generate_time_in_minutes_list\n",
    "\n",
    "    This function takes a dataframe in ../data/ with the measurement timepoints in the first row.\n",
    "    The measurement time has following format: int h int min. It then calculates the\n",
    "    minutes of the measurement time as an integer value and appends this value into a\n",
    "    list.\n",
    "    \n",
    "    :param dataframe\n",
    "        :type pd.DataFrame\n",
    "    \n",
    "    :returns minute_time\n",
    "        :type list[int]\n",
    "\n",
    "'''\n",
    "def generate_time_in_minutes_list(dataframe:pd.DataFrame)->list:\n",
    "    counter = -1\n",
    "    minute_time = []\n",
    "    for i in list(dataframe.iloc[0,2:]):\n",
    "        hours = int(i.split(\"h\")[0])\n",
    "        minutes = i.split(\"min\")[0].split(\"h\")[-1]\n",
    "        \n",
    "        if counter == 0 or counter == -1:\n",
    "        \n",
    "            if minutes != ' ':\n",
    "                minutes = int(minutes)\n",
    "            else:\n",
    "                minutes = 0\n",
    "                    \n",
    "            time_in_minutes = minutes + (hours * 60)\n",
    "        \n",
    "            if int(time_in_minutes) == 0:\n",
    "                counter += 1\n",
    "            \n",
    "            if counter == 0 or counter == -1:\n",
    "                minute_time.append(time_in_minutes)\n",
    "            \n",
    "        else:\n",
    "            break\n",
    "            \n",
    "    return minute_time"
   ]
  },
  {
   "cell_type": "code",
   "execution_count": 54,
   "id": "c7ad5243",
   "metadata": {},
   "outputs": [],
   "source": [
    "'''extract_content\n",
    "    \n",
    "    This function takes a dataframe in ../data/ with a Content column in which\n",
    "    the 5'UTR identifier reside. In each row there should be values for one 5'UTR identifier\n",
    "    named in the format: CPL_XXXX where XXXX is a number. The function returns a list of \n",
    "    all CPL identifier in the current dataframe.\n",
    "    \n",
    "    :param df\n",
    "        :type pd.DataFrame\n",
    "        \n",
    "    :returns content_to_plot\n",
    "        :type list[str]\n",
    "\n",
    "'''\n",
    "def extract_content(df:pd.DataFrame)->list:\n",
    "    content_to_plot = []\n",
    "    for cont in df.Content:\n",
    "        if type(cont) == str:\n",
    "            if cont.startswith(\"CPL\"):\n",
    "                \n",
    "                content_to_plot.append(cont)\n",
    "    return content_to_plot"
   ]
  },
  {
   "cell_type": "code",
   "execution_count": 55,
   "id": "a2f2fa16",
   "metadata": {},
   "outputs": [],
   "source": [
    "'''extract_datasets\n",
    "    \n",
    "    This function takes a dataframe in ../data/ and return the OD, GFP and RFP values\n",
    "    as pandas dataframes.\n",
    "    \n",
    "    :param df\n",
    "        :type pd.DataFrame\n",
    "    \n",
    "    :returns [od_df,green_df,red_df]\n",
    "        :type list[pd.DataFrame]\n",
    "\n",
    "'''\n",
    "def extract_datasets(df:pd.DataFrame)->list:\n",
    "\n",
    "    od_columns = [\"Well\",\"Content\"]\n",
    "    green_columns = [\"Well\",\"Content\"]\n",
    "    red_columns = [\"Well\",\"Content\"]\n",
    "\n",
    "    for i in df.columns:\n",
    "        if i.startswith('Blank corrected based on Raw Data (600'):\n",
    "            od_columns.append(i)\n",
    "        elif i.startswith(' Blank corrected based on Raw Data (470-15'):\n",
    "            green_columns.append(i)\n",
    "        elif i.startswith(' Blank corrected based on Raw Data (570-15'):\n",
    "            red_columns.append(i)\n",
    "            \n",
    "    od_df = df[od_columns].dropna()\n",
    "    green_df = df[green_columns].dropna()\n",
    "    red_df = df[red_columns].dropna()    \n",
    "    \n",
    "    return [od_df,green_df,red_df]"
   ]
  },
  {
   "cell_type": "code",
   "execution_count": 56,
   "id": "351212da",
   "metadata": {},
   "outputs": [],
   "source": [
    "'''plot_od_array\n",
    "\n",
    "    This function takes the time in minutes list from the generate_time_in_minutes_list function, \n",
    "    an array of the values which should get visualized, a path as a string variable for saving the \n",
    "    figure and a header which serves as title for the figure.\n",
    "    \n",
    "    The function calculates the timepoint of the maximum slope of the data (point of highest growth rate).\n",
    "    This is used for calculating the index of the exponential phase and the stationary phase, which are returned \n",
    "    by the function. Additionally it applies the savgol_filter to the data in arr. \n",
    "    \n",
    "    :param header - Title for the figure (e.g., CPL_0025)\n",
    "        :type str \n",
    "    :param time\n",
    "        :type list[int]\n",
    "    :param arr\n",
    "        :type np.array\n",
    "    :param save_path\n",
    "        :type str\n",
    "        \n",
    "    :returns index_exponential_phase, index_stationary_phase\n",
    "        :type tuple(int, int)\n",
    "\n",
    "'''\n",
    "def plot_od_array(header:str, time:list, arr:np.array, save_path:str):\n",
    "    \n",
    "    arr = savgol_filter(arr,window_length=19,polyorder=2)\n",
    "    max_slope = [x - z for x, z in zip(list(arr[1:]), list(arr[:-1]))]\n",
    "    \n",
    "    for i,val in enumerate(max_slope):\n",
    "        if val == max(max_slope[40:-40]):\n",
    "            index = i\n",
    "    \n",
    "    for i,val in enumerate(arr):\n",
    "        if val == max(arr):\n",
    "            mindex = i\n",
    "    \n",
    "    index_exponential_phase = index\n",
    "    index_stationary_phase = mindex\n",
    "    \n",
    "    max_val = arr[mindex] # str(round(max_val,2))\n",
    "    \n",
    "    mindex = time[mindex]\n",
    "    index = time[index]\n",
    "    \n",
    "    vlabel = str(index) + \" min.\"    \n",
    "    vlabel2 = str(mindex) + \" min.\"\n",
    "    \n",
    "    plt.figure(figsize=(12,8))\n",
    "    plt.scatter(x=time,y=arr,color=\"blue\", label=\"OD600 values\")\n",
    "    \n",
    "    plt.vlines(index, 0, max(arr)+np.mean(arr), color=\"red\", label=\"exponential phase\")\n",
    "    plt.vlines(mindex, 0, max(arr)+np.mean(arr), color=\"green\", label=\"stationary phase\")\n",
    "\n",
    "    plt.ylim(0,max(arr)+0.25)\n",
    "    plt.title(header)\n",
    "    plt.grid()\n",
    "    plt.xlabel(\"time in minutes\", fontsize=15)\n",
    "    plt.ylabel(\"OD600\", fontsize=15)\n",
    "    plt.tight_layout()\n",
    "    plt.legend(fontsize=12)\n",
    "    plt.savefig(save_path, dpi=300)\n",
    "    plt.close()\n",
    "    return index_exponential_phase, index_stationary_phase"
   ]
  },
  {
   "cell_type": "code",
   "execution_count": 57,
   "id": "17e59046",
   "metadata": {},
   "outputs": [],
   "source": [
    "'''plot_red_vs_green\n",
    "    \n",
    "    This function takes the time in minutes list from the generate_time_in_minutes_list function, \n",
    "    an array of the values which should get visualized, an index for the exponential and the stationary phase,\n",
    "    a path as a string variable for saving the figure and a header which serves as title for the figure.\n",
    "    \n",
    "    The function then uses the interp1d function of the scipy.interpolate module to interpolate the data with \n",
    "    a linear and a cubic method. All datapoints including the uninterpolated data are then visualized in a single figure\n",
    "    with vlines of the exponential and stationary phases.\n",
    "    \n",
    "    :param header\n",
    "        :type str\n",
    "    :param time\n",
    "        :type list\n",
    "    :param red_vs_green\n",
    "        :type np.array\n",
    "    :param index_exp\n",
    "        :type int\n",
    "    :param index_stat\n",
    "        :type int\n",
    "    :param save_path\n",
    "        :type str\n",
    "    \n",
    "    :returns none\n",
    "        :tpye none\n",
    "\n",
    "'''\n",
    "def plot_red_vs_green(header:str, time:list, red_vs_green:np.array,index_exp:int, index_stat:int, save_path:str):\n",
    "    f = interpolate.interp1d(time,red_vs_green , kind = 'linear')\n",
    "    f2 = interpolate.interp1d(time,red_vs_green , kind = 'cubic')\n",
    "    \n",
    "    plt.figure(figsize=(12,8))\n",
    "    plt.plot(time, red_vs_green, 'o', time, f(time), '-', time, f2(time), '--')\n",
    "    plt.vlines(time[index_exp],0,max(red_vs_green)+np.mean(red_vs_green),color=\"red\", label=\"RFP/GFP in peak exp. phase\")\n",
    "    plt.vlines(time[index_stat],0,max(red_vs_green)+np.mean(red_vs_green),color=\"green\", label=\"RFP/GFP in stat. phase\")\n",
    "\n",
    "    plt.title(header)\n",
    "    plt.ylim(0.1,max(red_vs_green)+0.1)\n",
    "    plt.grid()\n",
    "    plt.xlabel(\"time in minutes\", fontsize=15)\n",
    "    plt.ylabel(\"RFP/GFP Fluorescence\", fontsize=15)\n",
    "    plt.legend(fontsize=12)\n",
    "    plt.tight_layout()\n",
    "    plt.savefig(save_path, dpi=300)\n",
    "    plt.close()"
   ]
  },
  {
   "cell_type": "code",
   "execution_count": 58,
   "id": "a224c54e",
   "metadata": {},
   "outputs": [],
   "source": [
    "'''change_values\n",
    "    \n",
    "    This function is a helper function to change the \",\" signs to \".\" and it was used \n",
    "    to detect values that have been changed due to saving issues with Microsoft Excel. \n",
    "    \n",
    "    :param header - column to parse\n",
    "        :type str\n",
    "    :param cont - CPL identifier in Content\n",
    "        :type str\n",
    "    :param df\n",
    "        :type pd.DataFrame\n",
    "    :param columns\n",
    "        :type list[str]\n",
    "    \n",
    "    :returns arr\n",
    "        :type np.array\n",
    "'''\n",
    "def change_values(header:str,cont:str,df:pd.DataFrame,columns:list)->np.array:\n",
    "    arr = []\n",
    "    for item in df[df[header] == cont].loc[:,columns].items():\n",
    "        val = item[1].values[0]\n",
    "        try:\n",
    "            val = val.replace(\",\",\".\")\n",
    "            val = float(val)\n",
    "            arr.append(val)\n",
    "        except Exception as e:\n",
    "            if len(val) > 0:\n",
    "                replacement = val[-1]\n",
    "            else:\n",
    "                replacement = 0.0\n",
    "            print(\"[*] Date detected transform: {} to {}\".format(val, replacement))\n",
    "            val = replacement\n",
    "            arr.append(val)\n",
    "    return np.array(arr)"
   ]
  },
  {
   "cell_type": "code",
   "execution_count": 59,
   "id": "e94786fe",
   "metadata": {},
   "outputs": [],
   "source": [
    "'''plot_bar\n",
    "\n",
    "    Function for drawing and saving a bar plot with values in l and a x-tick description in content.\n",
    "    \n",
    "    :param l\n",
    "        :type list\n",
    "    :param content\n",
    "        :type str\n",
    "    :param savep\n",
    "        :type str\n",
    "    :param title\n",
    "        :type str\n",
    "\n",
    "'''\n",
    "def plot_bar(l:list, content:str, savep:str, title:str):\n",
    "    plt.figure(figsize=(12,8))\n",
    "    plt.bar(x=range(len(l)), height=l, linewidth=2, edgecolor='black')\n",
    "    plt.xticks(range(len(content)), content, rotation=60)\n",
    "    plt.ylim(0,max(l)+np.mean(l))\n",
    "    plt.title(title)\n",
    "    plt.tight_layout()\n",
    "    plt.savefig(savep)\n",
    "    plt.close()"
   ]
  },
  {
   "cell_type": "code",
   "execution_count": 60,
   "id": "3289b624",
   "metadata": {},
   "outputs": [],
   "source": [
    "'''outlier_smoother\n",
    "    \n",
    "    Helper function to reduce the noise of data in an array.\n",
    "    The function operates over a window of win values and tries to detect outlier values.\n",
    "    Outlier values are defined by d > m*mdev where d is an array with all values - the median\n",
    "    and mdev is the median of d. The key argument m defines the range which is allowed for values\n",
    "    to deviate.\n",
    "    \n",
    "    :param x - data to \"smooth\"\n",
    "        :type np.array\n",
    "    :param time\n",
    "        :type list[int]\n",
    "    :param content - current CPL identifier\n",
    "        :type str\n",
    "    :param index_exp\n",
    "        :type int\n",
    "    :param index_stat\n",
    "        :type int\n",
    "    :param savep\n",
    "        :type str\n",
    "    \n",
    "    :returns none\n",
    "        :type none\n",
    "'''\n",
    "def outlier_smoother(x:np.array, time:list, content:str, index_exp:int, index_stat:int, savep:str, m=3, win=3, plots=False):\n",
    "    ''' finds outliers in x, points > m*mdev(x) [mdev:median deviation] \n",
    "    and replaces them with the median of win points around them '''\n",
    "    x_corr = np.copy(x)\n",
    "    xtick_locs = np.arange(0,len(time),step=20)# range(len(time))\n",
    "    xtick_labels = time[::20]\n",
    "    d = np.abs(x - np.median(x))\n",
    "    mdev = np.median(d)\n",
    "    idxs_outliers = np.nonzero(d > m*mdev)[0]\n",
    "    for i in idxs_outliers:\n",
    "        if i-win < 0:\n",
    "            x_corr[i] = np.median(np.append(x[0:i], x[i+1:i+win+1]))\n",
    "        elif i+win+1 > len(x):\n",
    "            x_corr[i] = np.median(np.append(x[i-win:i], x[i+1:len(x)]))\n",
    "        else:\n",
    "            x_corr[i] = np.median(np.append(x[i-win:i], x[i+1:i+win+1]))\n",
    "    if plots:\n",
    "        plt.figure('outlier_smoother '+content, clear=True)\n",
    "        plt.plot(x, label='orig.', lw=5)\n",
    "        plt.plot(idxs_outliers, x[idxs_outliers], 'ro', label='outliers')                                                                                                                    \n",
    "        plt.plot(x_corr, '-o', label='corrected')\n",
    "        \n",
    "        # plt.vlines(time[index_exp],0,max(x),color=\"red\")\n",
    "        # plt.vlines(time[index_stat],0,max(x),color=\"green\")\n",
    "        \n",
    "        plt.legend()\n",
    "        plt.xticks(xtick_locs,xtick_labels)\n",
    "        plt.xlabel(\"time in minutes\")\n",
    "        plt.tight_layout()\n",
    "        plt.savefig(savep)\n",
    "        plt.close()\n",
    "    \n",
    "    return x_corr"
   ]
  },
  {
   "cell_type": "code",
   "execution_count": 61,
   "id": "f070c42e",
   "metadata": {},
   "outputs": [],
   "source": [
    "'''plot_phase_bar_plot\n",
    "\n",
    "    This function can be used to reproduce result figure 4a of the manuscript. As input it takes a\n",
    "    list of CPL identifiers, the normalized RFU values as described in equation 2 of the manuscript \n",
    "    for the stationary and for the exponential growth phases and some additional settings for \n",
    "    customizing the horizontal bar chart produced by this function.\n",
    "    \n",
    "    :param content - list of CPL identifer\n",
    "        :type list[str]\n",
    "    :param stat_phase - list of RFP/GFP values of the stationary phase\n",
    "        :type list\n",
    "    :param exp_phase - list of RFP/GFP values of the exponential phase\n",
    "        :type list\n",
    "    :param savep - filename and path for the figure\n",
    "        :type str\n",
    "    \n",
    "    :returns none\n",
    "        :type none\n",
    "'''\n",
    "def plot_phase_bar_plot(content:list,stat_phase:list,exp_phase:list,savep:str, xlim=1, legend_position=\"best\", fsize=15, fsize_text=8, fig_size=(14,10)):\n",
    "\n",
    "    try:\n",
    "        if len(content) == len(stat_phase) == len(exp_phase):\n",
    "            width = 0.4\n",
    "            ind = np.arange(len(content))\n",
    "            \n",
    "            plt.figure(figsize=fig_size)\n",
    "            bar1 = plt.barh(ind, exp_phase, width, label=\"RFP/GFP exponential phase\", color=\"blue\", edgecolor=\"black\")\n",
    "            bar2 = plt.barh(ind + width, stat_phase, width, label=\"RFP/GFP stationary phase\", color=\"orange\", edgecolor=\"black\")\n",
    "            \n",
    "            for rect in bar1 + bar2:\n",
    "                if rect.get_width() > 0:\n",
    "                    if rect.get_width() > 0.0099999999:\n",
    "                        if rect.get_width() > 0.1:\n",
    "                            plt.text(rect.get_width() + 0.012, rect.get_y(), f'{np.abs(rect.get_width()):.2f}', ha='center', va='bottom', fontsize=fsize_text)\n",
    "                        else:\n",
    "                            plt.text(rect.get_width() + 0.015, rect.get_y(), f'{np.abs(rect.get_width()):.2f}', ha='center', va='bottom', fontsize=fsize_text)\n",
    "\n",
    "                    else:\n",
    "                        plt.text(rect.get_width() + 0.015, rect.get_y() - 0.05, f'{np.abs(rect.get_width()):.3f}', ha='center', va='bottom', fontsize=fsize_text)\n",
    "\n",
    "            plt.xlabel(\"RFP/GFP fluorescence values\", fontsize=fsize)\n",
    "            plt.ylabel(\"Curvibacter Promoter Library (CPL) identifier\", fontsize=fsize)\n",
    "            # plt.title(\"Comparison of CPL-promoter constructs in exponentially and stationary growth phases\")\n",
    "            plt.yticks(ind + width / 2, content, fontsize=fsize-2)\n",
    "            plt.xticks(fontsize=12)\n",
    "            plt.legend(loc=legend_position, fontsize=fsize-2)\n",
    "            plt.tight_layout()\n",
    "            plt.xlim(0,xlim)\n",
    "            plt.grid(axis=\"x\")\n",
    "            plt.savefig(savep)\n",
    "            plt.close()\n",
    "        else:\n",
    "            raise Exception(\"[-] lists do not have the same length: content: {} stat_phase: {}  exp_phase: {}\"\n",
    "                            .format(len(content),len(stat_phase),len(exp_phase)))\n",
    "    except Exception as e:\n",
    "        raise Exception(\"[-] ERROR plotting phase bar plot with exception: {}\".format(e))"
   ]
  },
  {
   "cell_type": "code",
   "execution_count": 62,
   "id": "a6b121df",
   "metadata": {},
   "outputs": [],
   "source": [
    "'''plot_min_max_bar_plot\n",
    "    \n",
    "    This function is similar to the plot_phase_bar_plot except for plotting \n",
    "    the maximum and minimum values of the RFP/GFP values.\n",
    "    \n",
    "    :param content\n",
    "        :type list[str]\n",
    "    :param min_values\n",
    "        :type list[float]\n",
    "    :param max_values\n",
    "        :type list[float]\n",
    "    :param savep\n",
    "        :type str\n",
    "    \n",
    "    :returns none\n",
    "        :type none\n",
    "'''\n",
    "def plot_min_max_bar_plot(content:list,min_values:list,max_values:list,savep:str):\n",
    "\n",
    "    try:\n",
    "        if len(content) == len(min_values) == len(max_values):\n",
    "            width = 0.4\n",
    "            ind = np.arange(len(content))\n",
    "            \n",
    "            plt.figure(figsize=(14,10))\n",
    "            bar1 = plt.barh(ind, min_values, width, label=\"RFP/GFP minimal values\", color=\"blue\", edgecolor=\"black\")\n",
    "            bar2 = plt.barh(ind + width, max_values, width, label=\"RFP/GFP maximal values\", color=\"orange\", edgecolor=\"black\")\n",
    "            \n",
    "            for rect in bar1 + bar2:\n",
    "                if rect.get_width() > 0:\n",
    "                    if rect.get_width() > 0.0099999999:\n",
    "                        plt.text(rect.get_width() + 0.015, rect.get_y() , f'{np.abs(rect.get_width()):.2f}', ha='center', va='bottom', fontsize=8)\n",
    "                    else:\n",
    "                        plt.text(rect.get_width() + 0.015, rect.get_y() , f'{np.abs(rect.get_width()):.3f}', ha='center', va='bottom', fontsize=8)\n",
    "\n",
    "            plt.xlabel(\"RFP/GFP fluorescence values\")\n",
    "            plt.ylabel(\"Curvibacter Promoter Library (CPL) identifier\")\n",
    "            #plt.title(\"Comparison of CPL-promoter constructs in exponentially and stationary growth phases\")\n",
    "            plt.yticks(ind + width / 2, content)\n",
    "            plt.legend(loc=\"best\")\n",
    "            plt.tight_layout()\n",
    "            plt.xlim(0,1)\n",
    "            plt.grid()\n",
    "            plt.savefig(savep)\n",
    "            plt.close()\n",
    "        else:\n",
    "            raise Exception(\"[-] lists do not have the same length: content: {} stat_phase: {}  exp_phase: {}\"\n",
    "                            .format(len(content),len(stat_phase),len(exp_phase)))\n",
    "    except Exception as e:\n",
    "        raise Exception(\"[-] ERROR plotting phase bar plot with exception: {}\".format(e))"
   ]
  },
  {
   "cell_type": "code",
   "execution_count": 63,
   "id": "b684c072",
   "metadata": {},
   "outputs": [],
   "source": [
    "'''plot_content\n",
    "    \n",
    "    Wrapper function for plotting OD and RFU data. \n",
    "    This function combines the above described functions.\n",
    "\n",
    "'''\n",
    "def plot_content(df:pd.DataFrame, save_path:str):\n",
    "   \n",
    "    time = generate_time_in_minutes_list(df)\n",
    "    datasets = extract_datasets(df)\n",
    "    content = extract_content(df)\n",
    "    \n",
    "    min_val = []\n",
    "    max_val = []\n",
    "    \n",
    "    exp_phase = []\n",
    "    stat_phase = []\n",
    "    \n",
    "    real_cont = []\n",
    "    for cont in content:\n",
    "        od_arr = change_values(\"Content\",cont,datasets[0], datasets[0].columns[2:])\n",
    "        green_arr = change_values(\"Content\",cont,datasets[1], datasets[1].columns[2:])\n",
    "        red_arr = change_values(\"Content\",cont,datasets[2], datasets[2].columns[2:])\n",
    "                \n",
    "        savep = save_path + cont + \"_OD600.png\"\n",
    "        index_exp, index_stat = plot_od_array(cont, time, od_arr, savep)\n",
    "        savep = save_path + cont + \"_red_vs_green_sm.png\"\n",
    "        red_vs_green = np.array(red_arr.astype(float) / green_arr.astype(float))\n",
    "        smoothed_red_vs_green = outlier_smoother(red_vs_green,time, cont, index_exp, index_stat, savep,plots=True)\n",
    "        savep = save_path + cont + \"_red_vs_green_sm_outlier_removed.png\"\n",
    "        plot_red_vs_green(cont,time, smoothed_red_vs_green,index_exp, index_stat, savep)\n",
    "        \n",
    "        min_val.append(min(smoothed_red_vs_green))\n",
    "        max_val.append(max(smoothed_red_vs_green))\n",
    "        exp_phase.append(red_vs_green[index_exp])\n",
    "        stat_phase.append(red_vs_green[index_stat])\n",
    "        real_cont.append(cont)\n",
    "        \n",
    "        od_color = \"black\"\n",
    "        rfp_gfp_color = \"darkorange\"\n",
    "        gfp_color = \"green\"\n",
    "        rfp_color = \"red\"\n",
    "        vline_color = \"red\"\n",
    "        savep = save_path + \"combined_od_red_vs_green_\" + cont + \".png\"\n",
    "        plot_combined_od_red_vs_green_plot(df,cont,od_color,rfp_gfp_color,vline_color, savep)\n",
    "        \n",
    "    savep = save_path + \"local_maxima.png\"\n",
    "    plot_bar(max_val, content, savep, \"Local maxima of RFP/GFP\")\n",
    "    savep = save_path + \"local_minima.png\"\n",
    "    plot_bar(min_val, content, savep, \"Local minima of RFP/GFP\")\n",
    "    savep = save_path + \"exponential_phase.png\"\n",
    "    plot_bar(exp_phase, content, savep, \"Values of RFP/GFP in exponential phase\")\n",
    "    savep = save_path + \"stationary_phase.png\"\n",
    "    plot_bar(stat_phase, content, savep, \"Values of RFP/GFP in stationary phase\")\n",
    "    savep = save_path + \"exponential_stationary_phase_bar_plots.png\"\n",
    "    plot_phase_bar_plot(content, stat_phase, exp_phase, savep)\n",
    "    savep = save_path + \"min_max_bar_plots.png\"\n",
    "    plot_min_max_bar_plot(content, min_values=min_val, max_values=max_val, savep=savep)\n",
    "    dataframe = pd.DataFrame(zip(content, exp_phase, stat_phase, min_val, max_val),\n",
    "                         columns=[\"CPL\",\"EXP_PHASE\",\"STAT_PHASE\",\"MIN_VAL\",\"MAX_VAL\"])\n",
    "    dataframe.to_csv(save_path+\"comorehensive_dataframe.csv\")\n",
    "    return content, min_val, max_val, exp_phase, stat_phase\n",
    "        "
   ]
  },
  {
   "cell_type": "code",
   "execution_count": 64,
   "id": "905d0618",
   "metadata": {},
   "outputs": [],
   "source": [
    "'''collect_interesting_cpl_data\n",
    "\n",
    "    This function replaces the \"_\" sign in the CPL identifier with \" \" and extracts\n",
    "    all CPL identifier in the current dataframe to fill the dictionary all_cpls with CPL identifier\n",
    "    as keys and RFP/GFP values of the exp and stat phases as values. Only CPLs in the list \n",
    "    cpls_to_keep are processed.\n",
    "    \n",
    "    :param cpls_to_keep\n",
    "        :type list[str]\n",
    "    :param content\n",
    "        :type list[str]\n",
    "    :param exp_phase\n",
    "        :type list[float]\n",
    "    :param stat_phase\n",
    "        :type list[float]\n",
    "    :param all_cpls\n",
    "        :type dict\n",
    "        \n",
    "    :returns all_cpls\n",
    "        :type dict\n",
    "\n",
    "'''\n",
    "def collect_interesting_cpl_data(cpls_to_keep:list,content:list,exp_phase:list,stat_phase:list,all_cpls:dict)->dict:\n",
    "    content = [cpl.replace(\"_\",\"\") for cpl in content]\n",
    "    \n",
    "    for idx,cpl in enumerate(content):\n",
    "        if cpl in cpls_to_keep:\n",
    "            if cpl in list(all_cpls.keys()):\n",
    "                all_cpls[cpl].append(exp_phase[idx])\n",
    "                all_cpls[cpl].append(stat_phase[idx])\n",
    "            else:\n",
    "                all_cpls[cpl] = [exp_phase[idx], stat_phase[idx]]\n",
    "    return all_cpls"
   ]
  },
  {
   "cell_type": "code",
   "execution_count": 65,
   "id": "bd51f2f1",
   "metadata": {},
   "outputs": [],
   "source": [
    "'''clean_collected_dictionary\n",
    "\n",
    "    Helper function to return lists with values of the all_cpls dictionary.\n",
    "    The promoter sequence of the J23100 normalization promoter construct is not \n",
    "    returned.\n",
    "    \n",
    "    :param all_cpls\n",
    "        :type dict\n",
    "    \n",
    "    :returns [content, exp_phase, stat_phase]\n",
    "        :type list\n",
    "\n",
    "'''\n",
    "def clean_collected_dictionary(all_cpls:dict)->list:\n",
    "    content = []\n",
    "    exp_phase = []\n",
    "    stat_phase = []\n",
    "    for key in all_cpls.keys():\n",
    "        if key != \"CPL0017\":\n",
    "            content.append(key)\n",
    "            exp_phase.append(all_cpls[key][0])\n",
    "            stat_phase.append(all_cpls[key][1])\n",
    "            \n",
    "        elif key == \"CPL0017\":\n",
    "            content.append(key)\n",
    "            exp_phase.append((all_cpls[key][0]+all_cpls[key][2])/2)\n",
    "            stat_phase.append((all_cpls[key][1]+all_cpls[key][3])/2)\n",
    "        else:\n",
    "            print(\"ERROR\")\n",
    "    return [content,exp_phase,stat_phase]"
   ]
  },
  {
   "cell_type": "markdown",
   "id": "54ea2a37",
   "metadata": {},
   "source": [
    "# R2A Dataset"
   ]
  },
  {
   "cell_type": "code",
   "execution_count": 66,
   "id": "0b784b8f",
   "metadata": {},
   "outputs": [],
   "source": [
    "# restrict analysis to interesting CPLs\n",
    "cpls = \"0025,0022,0021,0017,0012,0008,0006,0005,0003,0002,0001,0017,0114,0112,0109,0106,0095,0083,0077,0075,0072,0071,0070,0069,0067,0065\"\n",
    "cpls = cpls.split(\",\")\n",
    "cpls = [\"CPL\"+str(cpl) for cpl in cpls]\n",
    "\n",
    "# this dictionary will inherit all informations from replicates 3 of cohort 1 and 2\n",
    "all_cpls = {}"
   ]
  },
  {
   "cell_type": "code",
   "execution_count": 67,
   "id": "1352d946",
   "metadata": {},
   "outputs": [],
   "source": [
    "# reading dataframes of repetition one\n",
    "df1 = pd.read_csv(data_path + \"r2aplus_30degree/csv/cohort1rep1_reconstituted.csv\", delimiter=\"\\t\")\n",
    "df2 = pd.read_csv(data_path + \"r2aplus_30degree/csv/co1rep2.csv\",skiprows=11, delimiter=\";\")\n",
    "df3 = pd.read_csv(data_path + \"r2aplus_30degree/csv/co1rep3.csv\", skiprows=11, delimiter=\";\")"
   ]
  },
  {
   "cell_type": "code",
   "execution_count": 68,
   "id": "fc299791",
   "metadata": {},
   "outputs": [],
   "source": [
    "# defining colors for the plots\n",
    "od_color = \"black\"\n",
    "rfp_gfp_color = \"darkorange\"\n",
    "gfp_color = \"green\"\n",
    "rfp_color = \"red\"\n",
    "vline_color = \"red\""
   ]
  },
  {
   "cell_type": "code",
   "execution_count": 69,
   "id": "7154306f",
   "metadata": {},
   "outputs": [],
   "source": [
    "'''plot_combined_od_gfp\n",
    "\n",
    "    This function plots a combination of the measured OD600 and GFP values to demonstrate\n",
    "    the correlation between GFP and OD600 values.\n",
    "    \n",
    "    :param dataframe\n",
    "        :type pd.DataFrame\n",
    "    :param cpl_number\n",
    "        :type str\n",
    "    :param od_color\n",
    "        :type str\n",
    "    :pram rfp_gfp_color - in fact here it is just GFP\n",
    "        :type str\n",
    "    :param vline_color\n",
    "        :type str\n",
    "    :param savep\n",
    "        :type str\n",
    "\n",
    "'''\n",
    "def plot_combined_od_gfp(dataframe:pd.DataFrame,cpl_number:str,od_color:str,rfp_gfp_color:str,vline_color:str,savep:str)->int:\n",
    "    \n",
    "    time = generate_time_in_minutes_list(dataframe)\n",
    "    \n",
    "    datasets = extract_datasets(dataframe)\n",
    "    content = extract_content(dataframe)\n",
    "    \n",
    "    od_arr = change_values(\"Content\",cpl_number,datasets[0], datasets[0].columns[2:])\n",
    "    green_arr = change_values(\"Content\",cpl_number,datasets[1], datasets[1].columns[2:])\n",
    "    red_arr = change_values(\"Content\",cpl_number,datasets[2], datasets[2].columns[2:])\n",
    "    od_data = savgol_filter(od_arr,window_length=19,polyorder=2)\n",
    "    gfp_data = savgol_filter(green_arr,window_length=19,polyorder=2)\n",
    "\n",
    "    max_slope = [x - z for x, z in zip(list(od_data[1:]), list(od_data[:-1]))]\n",
    "\n",
    "    for i,val in enumerate(max_slope):\n",
    "        if val == max(max_slope[40:-40]):\n",
    "            index = i\n",
    "\n",
    "    for i,val in enumerate(od_data):\n",
    "        if val == max(od_data):\n",
    "            mindex = i\n",
    "\n",
    "    index_exponential_phase = index\n",
    "    index_stationary_phase = mindex\n",
    "\n",
    "    max_val = od_data[mindex]\n",
    "    mindex = time[mindex]\n",
    "    index = time[index]\n",
    "    vlabel = str(index) + \" min.\"    \n",
    "\n",
    "    fig, ax = plt.subplots(figsize=(12,8))\n",
    "    axes = [ax, ax.twinx()]\n",
    "\n",
    "    colors = ('orange','blue')\n",
    "\n",
    "    axes[0].plot(time,od_data,linestyle=\"none\", marker='o', color=od_color)\n",
    "    axes[0].set_ylabel(\"OD600\", color=od_color, fontsize=15)\n",
    "    axes[0].tick_params(axis='y', colors=od_color, labelsize=12)\n",
    "\n",
    "    axes[1].plot(time,gfp_data,linestyle='none', marker='o', color=rfp_gfp_color)\n",
    "    axes[1].set_ylabel(\"RFU GFP\", color=rfp_gfp_color, fontsize=15)\n",
    "    axes[1].tick_params(axis='y', colors=rfp_gfp_color, labelsize=12)\n",
    "    axes[1].tick_params(axis='x', colors=\"black\", labelsize=12)\n",
    "\n",
    "\n",
    "    axes[0].set_xlabel(\"time in minutes\", fontsize=15)\n",
    "    ax.grid()\n",
    "\n",
    "    ax.vlines(index, 0, max(od_data)+np.mean(od_data), linestyles=\"--\", color=vline_color, label=\"exponential phase\")\n",
    "    ax.vlines(mindex, 0, max(od_data)+np.mean(od_data), linestyles=\"-\", color=vline_color, label=\"stationary phase\")\n",
    "\n",
    "    ax.legend(loc=\"lower right\", fontsize=15)\n",
    "\n",
    "    plt.savefig(savep, dpi=400)\n",
    "    plt.close()\n",
    "    return 0"
   ]
  },
  {
   "cell_type": "code",
   "execution_count": 70,
   "id": "e07dfbd4",
   "metadata": {},
   "outputs": [
    {
     "data": {
      "text/plain": [
       "0"
      ]
     },
     "execution_count": 70,
     "metadata": {},
     "output_type": "execute_result"
    }
   ],
   "source": [
    "savep = \"../results/cpl_0022_gfp_od600_correlation.png\"\n",
    "cpl_number = \"CPL_0022\"\n",
    "plot_combined_od_gfp(df3, cpl_number, od_color, gfp_color, vline_color, savep)"
   ]
  },
  {
   "cell_type": "code",
   "execution_count": 71,
   "id": "e04bcfdd",
   "metadata": {},
   "outputs": [
    {
     "data": {
      "text/plain": [
       "0"
      ]
     },
     "execution_count": 71,
     "metadata": {},
     "output_type": "execute_result"
    }
   ],
   "source": [
    "savep = \"../results/cpl_0017_gfp_od600_correlation.png\"\n",
    "cpl_number = \"CPL_0017\"\n",
    "plot_combined_od_gfp(df3, cpl_number, od_color, gfp_color, vline_color, savep)"
   ]
  },
  {
   "cell_type": "code",
   "execution_count": 82,
   "id": "8abae8c1",
   "metadata": {
    "scrolled": false
   },
   "outputs": [],
   "source": [
    "'''plot_combined_od_red_vs_green_plot\n",
    "\n",
    "    This function plots a figure with a combination of OD600 and RFP/GFP\n",
    "    values.\n",
    "    \n",
    "    :param dataframe\n",
    "        :type pd.DataFrame\n",
    "    :param cpl_number\n",
    "        :type str\n",
    "    :param od_color\n",
    "        :type str\n",
    "    :param rfp_gfp_color\n",
    "        :type str\n",
    "    :param vline_color\n",
    "        :type str\n",
    "    :param savep\n",
    "        :type str\n",
    "    \n",
    "    :returns returncode\n",
    "        :type int\n",
    "\n",
    "'''\n",
    "def plot_combined_od_red_vs_green_plot(dataframe:pd.DataFrame,cpl_number:str,od_color:str,\n",
    "                                       rfp_gfp_color:str,vline_color:str,savep:str)->int:\n",
    "    time = generate_time_in_minutes_list(dataframe)\n",
    "    datasets = extract_datasets(dataframe)\n",
    "    content = extract_content(dataframe)\n",
    "\n",
    "    od_arr = change_values(\"Content\",cpl_number,datasets[0], datasets[0].columns[2:])\n",
    "    green_arr = change_values(\"Content\",cpl_number,datasets[1], datasets[1].columns[2:])\n",
    "    red_arr = change_values(\"Content\",cpl_number,datasets[2], datasets[2].columns[2:])\n",
    "    red_vs_green = np.array(red_arr.astype(float) / green_arr.astype(float))\n",
    "    od_data = savgol_filter(od_arr,window_length=19,polyorder=2)\n",
    "    max_slope = [x - z for x, z in zip(list(od_data[1:]), list(od_data[:-1]))]\n",
    "\n",
    "    for i,val in enumerate(max_slope):\n",
    "        if val == max(max_slope[40:-40]):\n",
    "            index = i\n",
    "\n",
    "    for i,val in enumerate(od_data):\n",
    "        if val == max(od_data):\n",
    "            mindex = i\n",
    "\n",
    "    index_exponential_phase = index\n",
    "    index_stationary_phase = mindex\n",
    "\n",
    "    max_val = od_data[mindex]\n",
    "    \n",
    "    index_exponential_phase = index\n",
    "    index_stationary_phase = mindex\n",
    "    \n",
    "    mindex = time[mindex]\n",
    "    index = time[index]\n",
    "    vlabel = str(index) + \" min.\"    \n",
    "\n",
    "\n",
    "    # smoothing the data with a window of 3 and a range of 3\n",
    "    red_vs_green = outlier_smoother(red_vs_green,time, cpl_number, index_exponential_phase, index_stationary_phase, savep,plots=False)\n",
    "\n",
    "    fig, ax = plt.subplots(figsize=(12,8))\n",
    "\n",
    "    axes = [ax, ax.twinx()]\n",
    "    axes[0].plot(time,od_data,linestyle=\"none\", marker='o', color=od_color)\n",
    "    axes[0].set_ylabel(\"OD600\", color=od_color, fontsize=17)\n",
    "    axes[0].tick_params(axis='y', colors=od_color, labelsize=17)\n",
    "    axes[0].tick_params(axis='x', colors=\"black\", labelsize=17)\n",
    "\n",
    "    axes[1].plot(time,red_vs_green,linestyle='-',marker=\"o\", color=rfp_gfp_color)\n",
    "    axes[1].set_ylabel(\"RFP/GFP\", color=rfp_gfp_color, fontsize=17)\n",
    "    axes[1].tick_params(axis='y', colors=rfp_gfp_color, labelsize=17)\n",
    "    axes[1].tick_params(axis='x', colors=\"black\", labelsize=17)\n",
    "\n",
    "    axes[1].set_ylim(0,0.8)\n",
    "\n",
    "    axes[0].set_xlabel(\"time in minutes\", fontsize=15)\n",
    "    axes[0].grid(axis=\"y\",color=\"black\", linestyle=\"--\", alpha=0.5)\n",
    "    axes[1].grid(axis=\"y\",color=rfp_gfp_color,linestyle=\"--\", alpha=0.5)\n",
    "    \n",
    "    ax.vlines(index, 0, max(od_data)+np.mean(od_data), linestyles=\"--\", color=vline_color, label=\"exponential phase\")\n",
    "    ax.vlines(mindex, 0, max(od_data)+np.mean(od_data), linestyles=\"-\", color=vline_color, label=\"stationary phase\")\n",
    "\n",
    "    ax.legend(loc=\"lower right\", fontsize=15)\n",
    "\n",
    "    plt.savefig(savep, dpi=400)\n",
    "    plt.close()\n",
    "    return 0"
   ]
  },
  {
   "cell_type": "code",
   "execution_count": 73,
   "id": "ec4b15d4",
   "metadata": {},
   "outputs": [],
   "source": [
    "# subplots with CPL_0022 / CPL_0025 / CPL_0095 / CPL_0017\n",
    "'''get_data_for_subplot\n",
    "\n",
    "    This function is used for the creation of Figure 6 of the Manuscript.\n",
    "    It returns the OD and RFU values for a specific CPL identifier (cpl_number).\n",
    "    The index is the timepoint of the maximum slope within the exponential growth phase.\n",
    "    The mindex is the timepoint of the maximum value of the OD600 dataframe.\n",
    "    \n",
    "    :param dataframe\n",
    "        :type pd.DataFrane\n",
    "    \n",
    "    :returns [index, mindex, od_data, red_vs_green, time]\n",
    "        :type list[int, int, np.array, np.array, list[int]]\n",
    "\n",
    "'''\n",
    "def get_data_for_subplot(dataframe:pd.DataFrame, cpl_number:str)->list:\n",
    "    time = generate_time_in_minutes_list(dataframe)\n",
    "    datasets = extract_datasets(dataframe)\n",
    "    content = extract_content(dataframe)\n",
    "\n",
    "    od_arr = change_values(\"Content\",cpl_number,datasets[0], datasets[0].columns[2:])\n",
    "    green_arr = change_values(\"Content\",cpl_number,datasets[1], datasets[1].columns[2:])\n",
    "    red_arr = change_values(\"Content\",cpl_number,datasets[2], datasets[2].columns[2:])\n",
    "    red_vs_green = np.array(red_arr.astype(float) / green_arr.astype(float))\n",
    "    od_data = savgol_filter(od_arr,window_length=19,polyorder=2)\n",
    "    max_slope = [x - z for x, z in zip(list(od_data[1:]), list(od_data[:-1]))]\n",
    "\n",
    "    for i,val in enumerate(max_slope):\n",
    "        if val == max(max_slope[40:-40]):\n",
    "            index = i\n",
    "\n",
    "    for i,val in enumerate(od_data):\n",
    "        if val == max(od_data):\n",
    "            mindex = i\n",
    "\n",
    "    index_exponential_phase = index\n",
    "    index_stationary_phase = mindex\n",
    "\n",
    "    max_val = od_data[mindex]\n",
    "\n",
    "    index_exponential_phase = index\n",
    "    index_stationary_phase = mindex\n",
    "\n",
    "    mindex = time[mindex]\n",
    "    index = time[index]\n",
    "    vlabel = str(index) + \" min.\"    \n",
    "    \n",
    "    savep = \"none\"\n",
    "    red_vs_green = outlier_smoother(red_vs_green,time, cpl_number, index_exponential_phase, index_stationary_phase, savep, plots=False)\n",
    "    return [index, mindex, od_data, red_vs_green, time]"
   ]
  },
  {
   "cell_type": "code",
   "execution_count": 74,
   "id": "40ff79c0",
   "metadata": {},
   "outputs": [],
   "source": [
    "df_cpl_0095 = pd.read_csv(data_path + \"r2aplus_30degree/csv/co2rep3.csv\", skiprows=11, delimiter=\";\")\n",
    "df_cpl_0095 = pd.read_csv(data_path + \"r2aplus_30degree/csv/co2rep2.csv\",skiprows=11, delimiter=\";\")"
   ]
  },
  {
   "cell_type": "code",
   "execution_count": 75,
   "id": "1507b1af",
   "metadata": {},
   "outputs": [],
   "source": [
    "index_cpl_0022, mindex_cpl_0022, od_data_cpl_0022, red_vs_green_cpl_0022, time_cpl_0022 = get_data_for_subplot(df3, \"CPL_0022\")\n",
    "index_cpl_0025, mindex_cpl_0025, od_data_cpl_0025, red_vs_green_cpl_0025, time_cpl_0025 = get_data_for_subplot(df3, \"CPL_0025\")\n",
    "index_cpl_0017, mindex_cpl_0017, od_data_cpl_0017, red_vs_green_cpl_0017, time_cpl_0017 = get_data_for_subplot(df3, \"CPL_0017\")\n",
    "index_cpl_0095, mindex_cpl_0095, od_data_cpl_0095, red_vs_green_cpl_0095, time_cpl_0095 = get_data_for_subplot(df_cpl_0095, \"CPL_0095\")\n",
    "plot_list = [[index_cpl_0017, mindex_cpl_0017, od_data_cpl_0017, red_vs_green_cpl_0017, time_cpl_0017, \"CPL0017\"],\n",
    "           [index_cpl_0025, mindex_cpl_0025, od_data_cpl_0025, red_vs_green_cpl_0025, time_cpl_0025, \"CPL0025\"],\n",
    "           [index_cpl_0022, mindex_cpl_0022, od_data_cpl_0022, red_vs_green_cpl_0022, time_cpl_0022, \"CPL0022\"],\n",
    "           [index_cpl_0095, mindex_cpl_0095, od_data_cpl_0095, red_vs_green_cpl_0095, time_cpl_0095, \"CPL0095\"]]"
   ]
  },
  {
   "cell_type": "code",
   "execution_count": 76,
   "id": "5dcb3523",
   "metadata": {},
   "outputs": [
    {
     "data": {
      "image/png": "[encoded data removed]",
      "text/plain": [
       "<Figure size 1080x720 with 8 Axes>"
      ]
     },
     "metadata": {},
     "output_type": "display_data"
    }
   ],
   "source": [
    "fig, ((ax1, ax2), (ax3, ax4)) = plt.subplots(figsize=(15,10), nrows=2, ncols=2)\n",
    "\n",
    "axes = [ (ax1, ax1.twinx()), (ax2, ax2.twinx()), (ax3, ax3.twinx()), (ax4, ax4.twinx())]\n",
    "\n",
    "for index, data in enumerate(plot_list):\n",
    "    axes[index][0].plot(data[4],data[2],linestyle=\"none\", marker='o', color=od_color)\n",
    "    \n",
    "    if index != 1 and index != 3:\n",
    "        #axes[index][0].set_ylabel(\"OD600\", color=od_color, fontsize=17)\n",
    "        axes[index][0].tick_params(axis='y', colors=od_color, labelsize=17)\n",
    "        axes[index][0].tick_params(axis='x', colors=\"black\", labelsize=17)\n",
    "    else:\n",
    "        axes[index][0].tick_params(left = False, right = False , labelleft = False) \n",
    "        axes[index][0].tick_params(axis='x', colors=\"black\", labelsize=17)\n",
    "        \n",
    "    axes[index][1].plot(data[4],data[3],linestyle='-',marker=\"o\", color=rfp_gfp_color)\n",
    "    \n",
    "    if index != 0 and index != 2:\n",
    "        #axes[index][1].set_ylabel(\"RFP/GFP\", color=rfp_gfp_color, fontsize=17)\n",
    "        axes[index][1].tick_params(axis='y', colors=rfp_gfp_color, labelsize=17)\n",
    "        axes[index][1].tick_params(axis='x', colors=\"black\", labelsize=17)\n",
    "    else:\n",
    "        axes[index][1].tick_params(left = False, right = False , labelleft = False, labelright=False) \n",
    "    \n",
    "    axes[index][1].set_ylim(0,0.8)\n",
    "    axes[index][0].set_ylim(0,2.0)\n",
    "    \n",
    "        \n",
    "    axes[index][0].grid(axis=\"y\",color=\"black\", linestyle=\"--\", alpha=0.5)\n",
    "    axes[index][1].grid(axis=\"y\",color=rfp_gfp_color,linestyle=\"--\", alpha=0.5)\n",
    "\n",
    "    axes[index][1].vlines(data[0], 0, max(data[2])+np.mean(data[2]), linestyles=\"--\", color=vline_color, label=\"exponential phase\")\n",
    "    axes[index][1].vlines(data[1], 0, max(data[2])+np.mean(data[2]), linestyles=\"-\", color=vline_color, label=\"stationary phase\")\n",
    "    \n",
    "    if index == 3:\n",
    "        axes[index][1].legend(loc=\"upper left\", fontsize=15)\n",
    "    \n",
    "    axes[index][0].set_title(data[5], fontsize=17)\n",
    "    \n",
    "#fig.supxlabel('time in minutes', fontsize=20)\n",
    "#fig.supylabel('OD600', fontsize=20, x=-0.02)\n",
    "fig.text(x=-0.03, y=0.5, s=\"OD600\", size=25, fontweight='bold', rotation=90, ha='center', va='center')\n",
    "fig.text(x=0.55, y=-0.01, s=\"time in minutes\", size=25, fontweight='bold', rotation=0, ha='center', va='center')\n",
    "\n",
    "fig.text(x=1.15, y=0.5, s=\"RFP/GFP\", size=25, fontweight='bold', rotation=-90, ha='center', va='center', color=\"orange\")\n",
    "fig.text(x=0.58, y= + 1.03, s=\"Fluorescence Activity of Individual Candidate Sequences \", size=25, fontweight='bold', rotation=0, ha='center', va='center')\n",
    "\n",
    "plt.tight_layout()\n",
    "plt.subplots_adjust(right=1.1,)\n",
    "plt.savefig(\"../results/subplots_cpls.png\", dpi=400,  bbox_inches = 'tight')"
   ]
  },
  {
   "cell_type": "code",
   "execution_count": 78,
   "id": "9f481305",
   "metadata": {},
   "outputs": [],
   "source": [
    "savep=\"../results/CPL_0022_combined_plot.png\"\n",
    "cpl_number = \"CPL_0022\"\n",
    "red_vs_green = plot_combined_od_red_vs_green_plot(df3,\"CPL_0022\",od_color,rfp_gfp_color,vline_color, savep)"
   ]
  },
  {
   "cell_type": "code",
   "execution_count": 79,
   "id": "f50c2f2b",
   "metadata": {},
   "outputs": [],
   "source": [
    "savep=\"../results/CPL_0025_combined_plot.png\"\n",
    "cpl_number = \"CPL_0025\"\n",
    "red_vs_green = plot_combined_od_red_vs_green_plot(df3,\"CPL_0025\",od_color,rfp_gfp_color,vline_color, savep)"
   ]
  },
  {
   "cell_type": "code",
   "execution_count": 80,
   "id": "384b9b54",
   "metadata": {},
   "outputs": [
    {
     "data": {
      "text/plain": [
       "0"
      ]
     },
     "execution_count": 80,
     "metadata": {},
     "output_type": "execute_result"
    }
   ],
   "source": [
    "savep=\"../results/CPL_0017_combined_plot.png\"\n",
    "cpl_number = \"CPL_0017\"\n",
    "plot_combined_od_red_vs_green_plot(df3,\"CPL_0017\",od_color,rfp_gfp_color,vline_color, savep)"
   ]
  },
  {
   "cell_type": "code",
   "execution_count": 86,
   "id": "010eff6d",
   "metadata": {},
   "outputs": [],
   "source": [
    "save_path = result_path + \"r2aplus_30degree_cohorte1/replicates1/\"\n",
    "if isdir(result_path + \"r2aplus_30degree_cohorte1/\") == False:\n",
    "    mkdir(result_path + \"r2aplus_30degree_cohorte1/\")\n",
    "if isdir(save_path) == False:\n",
    "    mkdir(save_path)\n",
    "content, min_val, max_val, exp_phase, stat_phase = plot_content(df1, save_path)"
   ]
  },
  {
   "cell_type": "code",
   "execution_count": 87,
   "id": "82258acd",
   "metadata": {},
   "outputs": [],
   "source": [
    "save_path = result_path + \"r2aplus_30degree_cohorte1/replicates2/\"\n",
    "if isdir(save_path) == False:\n",
    "    mkdir(save_path)\n",
    "content, min_val, max_val, exp_phase, stat_phase = plot_content(df2, save_path)"
   ]
  },
  {
   "cell_type": "code",
   "execution_count": 88,
   "id": "b33db39b",
   "metadata": {},
   "outputs": [],
   "source": [
    "save_path = result_path + \"r2aplus_30degree_cohorte1/replicates3/\"\n",
    "if isdir(save_path) == False:\n",
    "    mkdir(save_path)\n",
    "    \n",
    "content_cohorte1, min_val, max_val, exp_phase_cohorte1, stat_phase_cohorte1 = plot_content(df3, save_path)\n",
    "# collecting values for df 3\n",
    "all_cpls = collect_interesting_cpl_data(cpls,content_cohorte1,exp_phase_cohorte1,stat_phase_cohorte1,all_cpls)"
   ]
  },
  {
   "cell_type": "code",
   "execution_count": 89,
   "id": "3425a550",
   "metadata": {},
   "outputs": [],
   "source": [
    "df1 = pd.read_csv(data_path + \"r2aplus_30degree/csv/co2rep1.csv\",skiprows=11, delimiter=\";\")\n",
    "df2 = pd.read_csv(data_path + \"r2aplus_30degree/csv/co2rep2.csv\",skiprows=11, delimiter=\";\")\n",
    "df3 = pd.read_csv(data_path + \"r2aplus_30degree/csv/co2rep3.csv\", skiprows=11, delimiter=\";\")"
   ]
  },
  {
   "cell_type": "code",
   "execution_count": 90,
   "id": "36b07185",
   "metadata": {},
   "outputs": [
    {
     "data": {
      "text/plain": [
       "0"
      ]
     },
     "execution_count": 90,
     "metadata": {},
     "output_type": "execute_result"
    }
   ],
   "source": [
    "savep=\"../results/CPL_0095_combined_plot.png\"\n",
    "cpl_number = \"CPL_0095\"\n",
    "plot_combined_od_red_vs_green_plot(df3,cpl_number,od_color,rfp_gfp_color,vline_color, savep)"
   ]
  },
  {
   "cell_type": "code",
   "execution_count": 91,
   "id": "34a122dc",
   "metadata": {},
   "outputs": [
    {
     "data": {
      "text/plain": [
       "0"
      ]
     },
     "execution_count": 91,
     "metadata": {},
     "output_type": "execute_result"
    }
   ],
   "source": [
    "savep=\"../results/CPL_0109_combined_plot.png\"\n",
    "cpl_number = \"CPL_0109\"\n",
    "plot_combined_od_red_vs_green_plot(df3,cpl_number,od_color,rfp_gfp_color,vline_color, savep)"
   ]
  },
  {
   "cell_type": "code",
   "execution_count": 94,
   "id": "c4bc0931",
   "metadata": {},
   "outputs": [],
   "source": [
    "save_path = result_path + \"r2aplus_30degree_cohorte2/replicates1/\"\n",
    "if isdir(result_path + \"r2aplus_30degree_cohorte2/\") == False:\n",
    "    mkdir(result_path + \"r2aplus_30degree_cohorte2/\")\n",
    "if isdir(save_path) == False:\n",
    "    mkdir(save_path)\n",
    "content, min_val, max_val, exp_phase, stat_phase = plot_content(df1, save_path)"
   ]
  },
  {
   "cell_type": "code",
   "execution_count": 95,
   "id": "deb25766",
   "metadata": {},
   "outputs": [],
   "source": [
    "save_path = result_path + \"r2aplus_30degree_cohorte2/replicates2/\"\n",
    "if isdir(save_path) == False:\n",
    "    mkdir(save_path)\n",
    "content, min_val, max_val, exp_phase, stat_phase = plot_content(df2, save_path)"
   ]
  },
  {
   "cell_type": "code",
   "execution_count": 96,
   "id": "c83bf574",
   "metadata": {},
   "outputs": [],
   "source": [
    "save_path = result_path + \"r2aplus_30degree_cohorte2/replicates3/\"\n",
    "if isdir(save_path) == False:\n",
    "    mkdir(save_path)\n",
    "content_cohorte2, min_val, max_val, exp_phase_cohorte2, stat_phase_cohorte2 = plot_content(df3, save_path)\n",
    "# collecting values for df 3\n",
    "all_cpls = collect_interesting_cpl_data(cpls,content_cohorte2,exp_phase_cohorte2,stat_phase_cohorte2,all_cpls)"
   ]
  },
  {
   "cell_type": "markdown",
   "id": "bab79c28",
   "metadata": {},
   "source": [
    "# Plotting Figure 4a"
   ]
  },
  {
   "cell_type": "code",
   "execution_count": 97,
   "id": "ac3ab989",
   "metadata": {},
   "outputs": [
    {
     "data": {
      "text/plain": [
       "{'CPL0001': [0.014993989750943714, 0.03700828503740982],\n",
       " 'CPL0002': [0.04358331374239219, 0.050126004347630926],\n",
       " 'CPL0003': [0.06111773275062905, 0.0741537251319529],\n",
       " 'CPL0005': [0.020746633275635595, 0.038130389131057305],\n",
       " 'CPL0006': [0.03660289996344584, 0.04327906659557848],\n",
       " 'CPL0008': [0.01623342175066313, 0.025700976174227813],\n",
       " 'CPL0012': [0.018759342301943198, 0.031222360320258984],\n",
       " 'CPL0017': [0.2511283663821686,\n",
       "  0.46612831461718784,\n",
       "  0.26897166428290115,\n",
       "  0.49344045230416805],\n",
       " 'CPL0021': [0.0038433503412630046, 0.004709818556170377],\n",
       " 'CPL0022': [0.2588437548213617, 0.26379111917588666],\n",
       " 'CPL0025': [0.3191238117730413, 0.6105869883806134],\n",
       " 'CPL0065': [0.04272767462422635, 0.04388756298064174],\n",
       " 'CPL0067': [0.0018249285236328244, 0.0035868547437097895],\n",
       " 'CPL0069': [0.001067995728017088, 0.005020774181730377],\n",
       " 'CPL0070': [0.013208329016885942, 0.015047563646318094],\n",
       " 'CPL0071': [0.013042842970630531, 0.011467719115347382],\n",
       " 'CPL0072': [0.003384414513468939, 0.0057871619658084175],\n",
       " 'CPL0075': [0.002546713594872235, 0.004522448017112876],\n",
       " 'CPL0077': [0.028497458283727347, 0.03335850397548083],\n",
       " 'CPL0083': [0.0074455123866251525, 0.005840363400389357],\n",
       " 'CPL0095': [0.27901373795366, 0.17693355532011504],\n",
       " 'CPL0106': [0.05543447360940017, 0.08471219855659215],\n",
       " 'CPL0109': [0.15116097865045972, 0.0991271063809924],\n",
       " 'CPL0112': [0.015414357520299007, 0.06340501571261323],\n",
       " 'CPL0114': [0.003720947626259793, 0.003985158719252439]}"
      ]
     },
     "execution_count": 97,
     "metadata": {},
     "output_type": "execute_result"
    }
   ],
   "source": [
    "# exp - stat phase\n",
    "all_cpls"
   ]
  },
  {
   "cell_type": "code",
   "execution_count": 98,
   "id": "43758d42",
   "metadata": {},
   "outputs": [],
   "source": [
    "data_to_plot = clean_collected_dictionary(all_cpls)"
   ]
  },
  {
   "cell_type": "code",
   "execution_count": 99,
   "id": "f303adf2",
   "metadata": {},
   "outputs": [
    {
     "data": {
      "text/plain": [
       "[['CPL0001',\n",
       "  'CPL0002',\n",
       "  'CPL0003',\n",
       "  'CPL0005',\n",
       "  'CPL0006',\n",
       "  'CPL0008',\n",
       "  'CPL0012',\n",
       "  'CPL0017',\n",
       "  'CPL0021',\n",
       "  'CPL0022',\n",
       "  'CPL0025',\n",
       "  'CPL0065',\n",
       "  'CPL0067',\n",
       "  'CPL0069',\n",
       "  'CPL0070',\n",
       "  'CPL0071',\n",
       "  'CPL0072',\n",
       "  'CPL0075',\n",
       "  'CPL0077',\n",
       "  'CPL0083',\n",
       "  'CPL0095',\n",
       "  'CPL0106',\n",
       "  'CPL0109',\n",
       "  'CPL0112',\n",
       "  'CPL0114'],\n",
       " [0.014993989750943714,\n",
       "  0.04358331374239219,\n",
       "  0.06111773275062905,\n",
       "  0.020746633275635595,\n",
       "  0.03660289996344584,\n",
       "  0.01623342175066313,\n",
       "  0.018759342301943198,\n",
       "  0.2600500153325349,\n",
       "  0.0038433503412630046,\n",
       "  0.2588437548213617,\n",
       "  0.3191238117730413,\n",
       "  0.04272767462422635,\n",
       "  0.0018249285236328244,\n",
       "  0.001067995728017088,\n",
       "  0.013208329016885942,\n",
       "  0.013042842970630531,\n",
       "  0.003384414513468939,\n",
       "  0.002546713594872235,\n",
       "  0.028497458283727347,\n",
       "  0.0074455123866251525,\n",
       "  0.27901373795366,\n",
       "  0.05543447360940017,\n",
       "  0.15116097865045972,\n",
       "  0.015414357520299007,\n",
       "  0.003720947626259793],\n",
       " [0.03700828503740982,\n",
       "  0.050126004347630926,\n",
       "  0.0741537251319529,\n",
       "  0.038130389131057305,\n",
       "  0.04327906659557848,\n",
       "  0.025700976174227813,\n",
       "  0.031222360320258984,\n",
       "  0.479784383460678,\n",
       "  0.004709818556170377,\n",
       "  0.26379111917588666,\n",
       "  0.6105869883806134,\n",
       "  0.04388756298064174,\n",
       "  0.0035868547437097895,\n",
       "  0.005020774181730377,\n",
       "  0.015047563646318094,\n",
       "  0.011467719115347382,\n",
       "  0.0057871619658084175,\n",
       "  0.004522448017112876,\n",
       "  0.03335850397548083,\n",
       "  0.005840363400389357,\n",
       "  0.17693355532011504,\n",
       "  0.08471219855659215,\n",
       "  0.0991271063809924,\n",
       "  0.06340501571261323,\n",
       "  0.003985158719252439]]"
      ]
     },
     "execution_count": 99,
     "metadata": {},
     "output_type": "execute_result"
    }
   ],
   "source": [
    "# 0 = content | 1 = exp | 2 = stat\n",
    "data_to_plot"
   ]
  },
  {
   "cell_type": "code",
   "execution_count": 100,
   "id": "e146a910",
   "metadata": {},
   "outputs": [],
   "source": [
    "save_path = \"../results/\"\n",
    "savep = save_path + \"exponential_phase_replicates3_unsorted.png\"\n",
    "plot_phase_bar_plot(data_to_plot[0], data_to_plot[2], data_to_plot[1], savep, xlim=0.8)"
   ]
  },
  {
   "cell_type": "code",
   "execution_count": 101,
   "id": "758c76e2",
   "metadata": {},
   "outputs": [],
   "source": [
    "sorted_stat_phase = []\n",
    "sorted_exp_phase = []\n",
    "sorted_cont = []\n",
    "max_promoter_strength = []\n",
    "# 0 = content | 1 = exp | 2 = stat\n",
    "for exp, stat, cont in sorted(zip(data_to_plot[1],data_to_plot[2],data_to_plot[0])):\n",
    "    max_promoter_strength.append(max([exp,stat]))\n",
    "    sorted_stat_phase.append(stat)\n",
    "    sorted_exp_phase.append(exp)\n",
    "    sorted_cont.append(cont)"
   ]
  },
  {
   "cell_type": "code",
   "execution_count": 102,
   "id": "4d6d0761",
   "metadata": {},
   "outputs": [
    {
     "data": {
      "text/plain": [
       "[0.001067995728017088,\n",
       " 0.0018249285236328244,\n",
       " 0.002546713594872235,\n",
       " 0.003384414513468939,\n",
       " 0.003720947626259793,\n",
       " 0.0038433503412630046,\n",
       " 0.0074455123866251525,\n",
       " 0.013042842970630531,\n",
       " 0.013208329016885942,\n",
       " 0.014993989750943714,\n",
       " 0.015414357520299007,\n",
       " 0.01623342175066313,\n",
       " 0.018759342301943198,\n",
       " 0.020746633275635595,\n",
       " 0.028497458283727347,\n",
       " 0.03660289996344584,\n",
       " 0.04272767462422635,\n",
       " 0.04358331374239219,\n",
       " 0.05543447360940017,\n",
       " 0.06111773275062905,\n",
       " 0.15116097865045972,\n",
       " 0.2588437548213617,\n",
       " 0.2600500153325349,\n",
       " 0.27901373795366,\n",
       " 0.3191238117730413]"
      ]
     },
     "execution_count": 102,
     "metadata": {},
     "output_type": "execute_result"
    }
   ],
   "source": [
    "sorted_exp_phase"
   ]
  },
  {
   "cell_type": "code",
   "execution_count": 103,
   "id": "6494f3d2",
   "metadata": {},
   "outputs": [
    {
     "data": {
      "text/plain": [
       "[0.005020774181730377,\n",
       " 0.0035868547437097895,\n",
       " 0.004522448017112876,\n",
       " 0.0057871619658084175,\n",
       " 0.003985158719252439,\n",
       " 0.004709818556170377,\n",
       " 0.005840363400389357,\n",
       " 0.011467719115347382,\n",
       " 0.015047563646318094,\n",
       " 0.03700828503740982,\n",
       " 0.06340501571261323,\n",
       " 0.025700976174227813,\n",
       " 0.031222360320258984,\n",
       " 0.038130389131057305,\n",
       " 0.03335850397548083,\n",
       " 0.04327906659557848,\n",
       " 0.04388756298064174,\n",
       " 0.050126004347630926,\n",
       " 0.08471219855659215,\n",
       " 0.0741537251319529,\n",
       " 0.0991271063809924,\n",
       " 0.26379111917588666,\n",
       " 0.479784383460678,\n",
       " 0.17693355532011504,\n",
       " 0.6105869883806134]"
      ]
     },
     "execution_count": 103,
     "metadata": {},
     "output_type": "execute_result"
    }
   ],
   "source": [
    "sorted_stat_phase"
   ]
  },
  {
   "cell_type": "code",
   "execution_count": 104,
   "id": "8d51ae83",
   "metadata": {},
   "outputs": [
    {
     "data": {
      "text/plain": [
       "['CPL0069',\n",
       " 'CPL0067',\n",
       " 'CPL0075',\n",
       " 'CPL0072',\n",
       " 'CPL0114',\n",
       " 'CPL0021',\n",
       " 'CPL0083',\n",
       " 'CPL0071',\n",
       " 'CPL0070',\n",
       " 'CPL0001',\n",
       " 'CPL0112',\n",
       " 'CPL0008',\n",
       " 'CPL0012',\n",
       " 'CPL0005',\n",
       " 'CPL0077',\n",
       " 'CPL0006',\n",
       " 'CPL0065',\n",
       " 'CPL0002',\n",
       " 'CPL0106',\n",
       " 'CPL0003',\n",
       " 'CPL0109',\n",
       " 'CPL0022',\n",
       " 'CPL0017',\n",
       " 'CPL0095',\n",
       " 'CPL0025']"
      ]
     },
     "execution_count": 104,
     "metadata": {},
     "output_type": "execute_result"
    }
   ],
   "source": [
    "sorted_cont"
   ]
  },
  {
   "cell_type": "code",
   "execution_count": 108,
   "id": "6fb34766",
   "metadata": {},
   "outputs": [],
   "source": [
    "'''plot_phase_bar_plot\n",
    "    \n",
    "    Function for plotting the sorted stationary and exponential growth phase RFP/GFP values.\n",
    "    \n",
    "    :param content - CPL identifier for yticks\n",
    "        :type list[str]\n",
    "    :param stat_phase\n",
    "        :type list[float]\n",
    "    :param exp_phase\n",
    "        :type list[float]\n",
    "    :param savep\n",
    "        :type str\n",
    "    \n",
    "    :returns returncode\n",
    "        :type int\n",
    "'''\n",
    "def plot_phase_bar_plot(content:list,stat_phase:list,exp_phase:list,savep:str, xlim=1,\n",
    "                        legend_position=\"best\", fsize=15, fsize_text=8, fig_size=(14,10)):\n",
    "\n",
    "    try:\n",
    "        if len(content) == len(stat_phase) == len(exp_phase):\n",
    "            width = 0.4\n",
    "            ind = np.arange(len(content))\n",
    "            \n",
    "            plt.figure(figsize=fig_size)\n",
    "            bar1 = plt.barh(ind, exp_phase, width, label=\"RFP/GFP exponential phase\", color=\"blue\", edgecolor=\"black\")\n",
    "            bar2 = plt.barh(ind + width, stat_phase, width, label=\"RFP/GFP stationary phase\", color=\"orange\", edgecolor=\"black\")\n",
    "            \n",
    "            for rect in bar1 + bar2:\n",
    "                if rect.get_width() > 0:\n",
    "                    if rect.get_width() > 0.0099999999:\n",
    "                        if rect.get_width() > 0.1:\n",
    "                            plt.text(rect.get_width() + 0.012, rect.get_y(), f'{np.abs(rect.get_width()):.2f}', ha='center', va='bottom', fontsize=fsize_text)\n",
    "                        else:\n",
    "                            plt.text(rect.get_width() + 0.015, rect.get_y(), f'{np.abs(rect.get_width()):.2f}', ha='center', va='bottom', fontsize=fsize_text)\n",
    "\n",
    "                    else:\n",
    "                        plt.text(rect.get_width() + 0.015, rect.get_y() - 0.05, f'{np.abs(rect.get_width()):.3f}', ha='center', va='bottom', fontsize=fsize_text)\n",
    "\n",
    "            plt.xlabel(\"RFP/GFP fluorescence values\", fontsize=fsize)\n",
    "            plt.ylabel(\"Curvibacter Promoter Library (CPL) identifier\", fontsize=fsize)\n",
    "            # plt.title(\"Comparison of CPL-promoter constructs in exponentially and stationary growth phases\")\n",
    "            plt.yticks(ind + width / 2, content, fontsize=fsize-2 )\n",
    "            plt.xticks(fontsize=20)\n",
    "            plt.legend(loc=legend_position, fontsize=fsize-2)\n",
    "            plt.xlim(0,xlim)\n",
    "            plt.grid(axis=\"x\")\n",
    "            \n",
    "            ax = plt.gca()\n",
    "\n",
    "            # Set the y-tick labels\n",
    "            ytick_labels = ax.get_yticklabels()\n",
    "            \n",
    "            promoters = [\"CPL0025\",\"CPL0095\",\"CPL0022\",\"CPL0017\"]\n",
    "\n",
    "            # Set the color for the specified indices\n",
    "            for label in ytick_labels:\n",
    "                if label.get_text() in promoters:\n",
    "                    label.set_color('red')\n",
    "                    \n",
    "            \n",
    "            plt.tight_layout()\n",
    "            plt.savefig(savep)\n",
    "            return 0\n",
    "        else:\n",
    "            raise Exception(\"[-] lists do not have the same length: content: {} stat_phase: {}  exp_phase: {}\"\n",
    "                            .format(len(content),len(stat_phase),len(exp_phase)))\n",
    "    except Exception as e:\n",
    "        raise Exception(\"[-] ERROR plotting phase bar plot with exception: {}\".format(e))"
   ]
  },
  {
   "cell_type": "code",
   "execution_count": 106,
   "id": "e133e650",
   "metadata": {},
   "outputs": [
    {
     "data": {
      "image/png": "[encoded data removed]",
      "text/plain": [
       "<Figure size 1008x1008 with 1 Axes>"
      ]
     },
     "metadata": {
      "needs_background": "light"
     },
     "output_type": "display_data"
    }
   ],
   "source": [
    "save_path = \"../results/\"\n",
    "savep = save_path + \"exponential_phase_replicates3_sorted.png\"\n",
    "label = plot_phase_bar_plot(sorted_cont,sorted_stat_phase, sorted_exp_phase, savep, xlim=0.8, legend_position=\"lower right\", fsize=20, fsize_text=10, fig_size=(14,14))"
   ]
  },
  {
   "cell_type": "markdown",
   "id": "5ab5e954",
   "metadata": {},
   "source": [
    "# Plotting of Figure 4b"
   ]
  },
  {
   "cell_type": "code",
   "execution_count": 109,
   "id": "c53d24fe",
   "metadata": {},
   "outputs": [],
   "source": [
    "promoter_strength = np.array(sorted_exp_phase) / np.array(sorted_stat_phase)\n",
    "promoter_strength_sorted = []\n",
    "sorted_cont_sorted = []\n",
    "max_promoter_strength_sorted = []\n",
    "for val, cont, maxprotstr in sorted(zip(promoter_strength, sorted_cont, max_promoter_strength)):\n",
    "    max_promoter_strength_sorted.append(maxprotstr)\n",
    "    promoter_strength_sorted.append(val)\n",
    "    sorted_cont_sorted.append(cont)"
   ]
  },
  {
   "cell_type": "code",
   "execution_count": 110,
   "id": "c4e11377",
   "metadata": {},
   "outputs": [
    {
     "data": {
      "text/plain": [
       "[0.001067995728017088,\n",
       " 0.0018249285236328244,\n",
       " 0.002546713594872235,\n",
       " 0.003384414513468939,\n",
       " 0.003720947626259793,\n",
       " 0.0038433503412630046,\n",
       " 0.0074455123866251525,\n",
       " 0.013042842970630531,\n",
       " 0.013208329016885942,\n",
       " 0.014993989750943714,\n",
       " 0.015414357520299007,\n",
       " 0.01623342175066313,\n",
       " 0.018759342301943198,\n",
       " 0.020746633275635595,\n",
       " 0.028497458283727347,\n",
       " 0.03660289996344584,\n",
       " 0.04272767462422635,\n",
       " 0.04358331374239219,\n",
       " 0.05543447360940017,\n",
       " 0.06111773275062905,\n",
       " 0.15116097865045972,\n",
       " 0.2588437548213617,\n",
       " 0.2600500153325349,\n",
       " 0.27901373795366,\n",
       " 0.3191238117730413]"
      ]
     },
     "execution_count": 110,
     "metadata": {},
     "output_type": "execute_result"
    }
   ],
   "source": [
    "sorted_exp_phase"
   ]
  },
  {
   "cell_type": "code",
   "execution_count": 111,
   "id": "346a6111",
   "metadata": {},
   "outputs": [
    {
     "data": {
      "text/plain": [
       "[0.005020774181730377,\n",
       " 0.0035868547437097895,\n",
       " 0.004522448017112876,\n",
       " 0.0057871619658084175,\n",
       " 0.003985158719252439,\n",
       " 0.004709818556170377,\n",
       " 0.005840363400389357,\n",
       " 0.011467719115347382,\n",
       " 0.015047563646318094,\n",
       " 0.03700828503740982,\n",
       " 0.06340501571261323,\n",
       " 0.025700976174227813,\n",
       " 0.031222360320258984,\n",
       " 0.038130389131057305,\n",
       " 0.03335850397548083,\n",
       " 0.04327906659557848,\n",
       " 0.04388756298064174,\n",
       " 0.050126004347630926,\n",
       " 0.08471219855659215,\n",
       " 0.0741537251319529,\n",
       " 0.0991271063809924,\n",
       " 0.26379111917588666,\n",
       " 0.479784383460678,\n",
       " 0.17693355532011504,\n",
       " 0.6105869883806134]"
      ]
     },
     "execution_count": 111,
     "metadata": {},
     "output_type": "execute_result"
    }
   ],
   "source": [
    "sorted_stat_phase"
   ]
  },
  {
   "cell_type": "code",
   "execution_count": 112,
   "id": "dc697f20",
   "metadata": {},
   "outputs": [
    {
     "data": {
      "image/png": "[encoded data removed]",
      "text/plain": [
       "<Figure size 864x576 with 1 Axes>"
      ]
     },
     "metadata": {
      "needs_background": "light"
     },
     "output_type": "display_data"
    }
   ],
   "source": [
    "plt.figure(figsize=(12,8))\n",
    "\n",
    "msize = np.interp(max_promoter_strength_sorted,  [min(max_promoter_strength_sorted), max(max_promoter_strength_sorted)], [100,1000])\n",
    "\n",
    "xticks = []\n",
    "for tick in range(len(sorted_cont_sorted)):\n",
    "    xticks.append(tick)\n",
    "\n",
    "plt.scatter(y=promoter_strength_sorted,x=xticks,s=msize, c=\"grey\", edgecolor=\"black\", lw=2, alpha=0.5, label=\"marker size based on max RFP / GFP values\")\n",
    "plt.axhline(0.7, color=\"red\", linestyle=\"--\", label=\"0.7 threshold - stronger in stat. phase\")\n",
    "plt.axhline(1.2, color=\"red\", linestyle=\"-\", label=\"1.2 threshold - stronger in exp. phase\")\n",
    "\n",
    "\n",
    "\n",
    "    \n",
    "plt.xticks(xticks, sorted_cont_sorted, rotation= 90, fontsize=17)\n",
    "plt.yticks(fontsize=17)\n",
    "\n",
    "#for x,y,text in zip(xticks, promoter_strength_sorted, promoter_strength_sorted):\n",
    "#    plt.text(x, y, str(round(text,2)), fontsize=12)\n",
    "\n",
    "\n",
    "ax = plt.gca()\n",
    "\n",
    "# Set the y-tick labels\n",
    "xtick_labels = ax.get_xticklabels()\n",
    "\n",
    "promoters = [\"CPL0025\",\"CPL0095\",\"CPL0022\",\"CPL0017\"]\n",
    "\n",
    "# Set the color for the specified indices\n",
    "for label in xtick_labels:\n",
    "    if label.get_text() in promoters:\n",
    "        label.set_color('red')\n",
    "\n",
    "\n",
    "plt.ylim(0.0,2.0)\n",
    "plt.legend(fontsize=15, loc=\"upper left\")\n",
    "plt.grid(axis=\"y\", color=\"black\", alpha=0.8)\n",
    "plt.grid(axis=\"x\", color=\"black\",alpha=0.1, linestyle=\"--\")\n",
    "plt.ylabel(\"RFP/GFP in exp. phase / RFP/GFP in stat. phase\", fontsize=15)\n",
    "plt.tight_layout()\n",
    "plt.savefig(\"../results/promoter_strength.png\", dpi=400)"
   ]
  },
  {
   "cell_type": "markdown",
   "id": "8c847073",
   "metadata": {},
   "source": [
    "# BMM9 Dataset"
   ]
  },
  {
   "cell_type": "code",
   "execution_count": null,
   "id": "b49d3768",
   "metadata": {},
   "outputs": [],
   "source": [
    "def plot_corrected_bmm9_content(df1:pd.DataFrame, df2:pd.DataFrame, save_path:str):\n",
    "   \n",
    "    time1 = generate_time_in_minutes_list(df1)\n",
    "    datasets1 = extract_datasets(df1)\n",
    "    content1 = extract_content(df1)\n",
    "    time2 = generate_time_in_minutes_list(df2)\n",
    "    datasets2 = extract_datasets(df2)\n",
    "    content2 = extract_content(df2)\n",
    "    \n",
    "    od_data = datasets1[0].merge(datasets2[0], on=\"Content\")\n",
    "    green_data = datasets1[1].merge(datasets2[1], on=\"Content\")\n",
    "    red_data = datasets1[2].merge(datasets2[2], on=\"Content\")\n",
    "    od_data = od_data.drop('Well_y', axis=1)\n",
    "    green_data = green_data.drop('Well_y', axis=1)\n",
    "    red_data = red_data.drop('Well_y', axis=1)\n",
    "\n",
    "    time = time1\n",
    "    for t in time2:\n",
    "        current_val = time[-1]\n",
    "        current_val += 15\n",
    "        time.append(current_val)\n",
    "    content = content1\n",
    "    \n",
    "    min_val = []\n",
    "    max_val = []\n",
    "    exp_phase = []\n",
    "    stat_phase = []\n",
    "    \n",
    "    for cont in content:\n",
    "        od_arr = change_values(\"Content\",cont,od_data, od_data.columns[2:])\n",
    "        green_arr = change_values(\"Content\",cont,green_data, green_data.columns[2:])\n",
    "        red_arr = change_values(\"Content\",cont,red_data, red_data.columns[2:])\n",
    "                \n",
    "        savep = save_path + cont + \"_OD600.png\"\n",
    "        index_exp, index_stat = plot_od_array(cont, time, od_arr, savep)\n",
    "        savep = save_path + cont + \"_red_vs_green_sm.png\"\n",
    "        red_vs_green = np.array(red_arr.astype(float) / green_arr.astype(float))\n",
    "        smoothed_red_vs_green = outlier_smoother(red_vs_green,time, cont, index_exp, index_stat, savep,plots=True)\n",
    "        savep = save_path + cont + \"_red_vs_green_sm_outlier_removed.png\"\n",
    "        plot_red_vs_green(cont, time, smoothed_red_vs_green,index_exp, index_stat, savep)\n",
    "        \n",
    "        min_val.append(min(smoothed_red_vs_green))\n",
    "        max_val.append(max(smoothed_red_vs_green))\n",
    "        exp_phase.append(red_vs_green[index_exp])\n",
    "        stat_phase.append(red_vs_green[index_stat])\n",
    "        \n",
    "    savep = save_path + \"local_maxima.png\"\n",
    "    plot_bar(max_val, content, savep, \"Local maxima of RFP/GFP\")\n",
    "    savep = save_path + \"local_minima.png\"\n",
    "    plot_bar(min_val, content, savep, \"Local minima of RFP/GFP\")\n",
    "    savep = save_path + \"exponential_phase.png\"\n",
    "    plot_bar(exp_phase, content, savep, \"Values of RFP/GFP in exponential phase\")\n",
    "    savep = save_path + \"stationary_phase.png\"\n",
    "    plot_bar(stat_phase, content, savep, \"Values of RFP/GFP in stationary phase\")\n",
    "    savep = save_path + \"exponential_stationary_phase_bar_plots.png\"\n",
    "    plot_phase_bar_plot(content, stat_phase, exp_phase, savep)\n",
    "    savep = save_path + \"min_max_bar_plots.png\"\n",
    "    plot_min_max_bar_plot(content, min_values=min_val, max_values=max_val, savep=savep)\n",
    "    dataframe = pd.DataFrame(zip(content, exp_phase, stat_phase, min_val, max_val),\n",
    "                         columns=[\"CPL\",\"EXP_PHASE\",\"STAT_PHASE\",\"MIN_VAL\",\"MAX_VAL\"])\n",
    "    dataframe.to_csv(save_path+\"comorehensive_dataframe.csv\")\n",
    "    return content, min_val, max_val, exp_phase, stat_phase"
   ]
  },
  {
   "cell_type": "code",
   "execution_count": null,
   "id": "0eb10ade",
   "metadata": {},
   "outputs": [],
   "source": [
    "df1 = pd.read_csv(data_path + \"bmm9_30degree/csv/co1rep1.csv\", skiprows=11, delimiter=\";\")\n",
    "df2 = pd.read_csv(data_path + \"bmm9_30degree/csv/co1rep1p2.csv\",skiprows=11, delimiter=\";\")"
   ]
  },
  {
   "cell_type": "code",
   "execution_count": null,
   "id": "2f05189c",
   "metadata": {},
   "outputs": [],
   "source": [
    "save_path = result_path + \"bmm9_30degree_cohorte1/replicates1/\"\n",
    "content, min_val, max_val, exp_phase, stat_phase = plot_corrected_bmm9_content(df1, df2, save_path)"
   ]
  },
  {
   "cell_type": "code",
   "execution_count": null,
   "id": "9ec54c26",
   "metadata": {},
   "outputs": [],
   "source": [
    "df1 = pd.read_csv(data_path + \"bmm9_30degree/csv/co2rep1.csv\", skiprows=10, delimiter=\";\")"
   ]
  },
  {
   "cell_type": "code",
   "execution_count": null,
   "id": "5a1b78df",
   "metadata": {},
   "outputs": [],
   "source": [
    "save_path = result_path + \"bmm9_30degree_cohorte2/replicates1/\"\n",
    "content, min_val, max_val, exp_phase, stat_phase = plot_content(df1, save_path)"
   ]
  },
  {
   "cell_type": "markdown",
   "id": "9cb2465c",
   "metadata": {},
   "source": [
    "# calculating turning points\n",
    "\n",
    "- this is already implemented in the functions above, the savgol_filter does the trick"
   ]
  },
  {
   "cell_type": "code",
   "execution_count": null,
   "id": "f571f876",
   "metadata": {},
   "outputs": [],
   "source": [
    "df1 = pd.read_csv(data_path + \"r2aplus_30degree/csv/cohort1rep1_reconstituted.csv\", delimiter=\"\\t\")\n",
    "df2 = pd.read_csv(data_path + \"r2aplus_30degree/csv/co1rep2.csv\",skiprows=11, delimiter=\";\")\n",
    "df3 = pd.read_csv(data_path + \"r2aplus_30degree/csv/co1rep3.csv\", skiprows=11, delimiter=\";\")"
   ]
  },
  {
   "cell_type": "code",
   "execution_count": null,
   "id": "1f417a64",
   "metadata": {},
   "outputs": [],
   "source": [
    "# list of dataframes [od, green, red]\n",
    "dataframes_df2 = extract_datasets(df2)\n",
    "cpl0025_od = list(dataframes_df2[0].iloc[20][2:].apply(lambda x: float(x.replace(\",\",\".\"))))"
   ]
  },
  {
   "cell_type": "code",
   "execution_count": null,
   "id": "352b6a3c",
   "metadata": {},
   "outputs": [],
   "source": [
    "cpl0012_od = list(dataframes_df2[0].iloc[11][2:].apply(lambda x: float(x.replace(\",\",\".\"))))"
   ]
  },
  {
   "cell_type": "code",
   "execution_count": null,
   "id": "77d0dd35",
   "metadata": {},
   "outputs": [],
   "source": [
    "plt.scatter(x=range(len(cpl0025_od)),y=cpl0025_od)\n",
    "plt.scatter(x=range(len(cpl0025_od)),y=np.gradient(cpl0025_od))"
   ]
  },
  {
   "cell_type": "code",
   "execution_count": null,
   "id": "93d8bf9d",
   "metadata": {},
   "outputs": [],
   "source": [
    "plt.scatter(x=range(len(cpl0012_od)),y=cpl0012_od)\n",
    "plt.scatter(x=range(len(cpl0012_od)),y=np.gradient(cpl0012_od))"
   ]
  },
  {
   "cell_type": "code",
   "execution_count": null,
   "id": "c38a2f7e",
   "metadata": {},
   "outputs": [],
   "source": [
    "# omit first 20 datapoints and last 20 datapoints\n",
    "# cpl0012_od = cpl0012_od[20:len(cpl0012_od)-20]\n",
    "max_slope = [x - z for x, z in zip(cpl0012_od[1:], cpl0012_od[:-1])]\n",
    "\n",
    "for index,val in enumerate(max_slope):\n",
    "    if val == max(max_slope[20:-20]):\n",
    "        print(index, val, max_slope[index])\n",
    "        break\n",
    "\n",
    "vlabel = str(index*15) + \" min.\"\n",
    "plt.scatter(x=range(len(cpl0012_od)),y=cpl0012_od)\n",
    "plt.vlines(index, 0, max(cpl0012_od), color=\"red\", label=vlabel)\n",
    "plt.legend()"
   ]
  },
  {
   "cell_type": "code",
   "execution_count": null,
   "id": "b1077857",
   "metadata": {},
   "outputs": [],
   "source": [
    "max_slope = [x - z for x, z in zip(cpl0025_od[1:], cpl0025_od[:-1])]\n",
    "\n",
    "for index,val in enumerate(max_slope):\n",
    "    if val == max(max_slope[20:-20]):\n",
    "        print(index, val, max_slope[index])\n",
    "        break\n",
    "\n",
    "vlabel = str(index*15) + \" min.\"\n",
    "plt.scatter(x=range(len(cpl0025_od)),y=cpl0025_od)\n",
    "plt.vlines(index, 0, max(cpl0025_od), color=\"red\", label=vlabel)\n",
    "plt.legend()"
   ]
  },
  {
   "cell_type": "code",
   "execution_count": null,
   "id": "78cc7af5",
   "metadata": {},
   "outputs": [],
   "source": [
    "cpl0025_od = savgol_filter(cpl0025_od,window_length=19,polyorder=2)"
   ]
  },
  {
   "cell_type": "code",
   "execution_count": null,
   "id": "bd512c62",
   "metadata": {},
   "outputs": [],
   "source": [
    "max_slope = [x - z for x, z in zip(cpl0025_od[1:], cpl0025_od[:-1])]\n",
    "\n",
    "for index,val in enumerate(max_slope):\n",
    "    if val == max(max_slope):\n",
    "        print(index, val, max_slope[index])\n",
    "        break\n",
    "\n",
    "vlabel = str(index*15) + \" min.\"\n",
    "plt.scatter(x=range(len(cpl0025_od)),y=cpl0025_od)\n",
    "plt.vlines(index, 0, max(cpl0025_od), color=\"red\", label=vlabel)\n",
    "plt.legend()"
   ]
  },
  {
   "cell_type": "markdown",
   "id": "ad395592",
   "metadata": {},
   "source": [
    "# plot raw read counts vs CPL"
   ]
  },
  {
   "cell_type": "code",
   "execution_count": 113,
   "id": "dd898271",
   "metadata": {},
   "outputs": [
    {
     "ename": "FileNotFoundError",
     "evalue": "[Errno 2] No such file or directory: '../results/readCountsNormalizedWpToAEP.csv'",
     "output_type": "error",
     "traceback": [
      "\u001b[0;31m---------------------------------------------------------------------------\u001b[0m",
      "\u001b[0;31mFileNotFoundError\u001b[0m                         Traceback (most recent call last)",
      "\u001b[0;32m<ipython-input-113-eb07e87aae6d>\u001b[0m in \u001b[0;36m<module>\u001b[0;34m\u001b[0m\n\u001b[1;32m      1\u001b[0m \u001b[0mraw_counts\u001b[0m \u001b[0;34m=\u001b[0m \u001b[0;34m\"../results/readCountsNormalizedWpToAEP.csv\"\u001b[0m\u001b[0;34m\u001b[0m\u001b[0;34m\u001b[0m\u001b[0m\n\u001b[0;32m----> 2\u001b[0;31m \u001b[0mraw_counts_df\u001b[0m \u001b[0;34m=\u001b[0m \u001b[0mpd\u001b[0m\u001b[0;34m.\u001b[0m\u001b[0mread_csv\u001b[0m\u001b[0;34m(\u001b[0m\u001b[0mraw_counts\u001b[0m\u001b[0;34m)\u001b[0m\u001b[0;34m\u001b[0m\u001b[0;34m\u001b[0m\u001b[0m\n\u001b[0m",
      "\u001b[0;32m/BigData/miniconda3/lib/python3.8/site-packages/pandas/util/_decorators.py\u001b[0m in \u001b[0;36mwrapper\u001b[0;34m(*args, **kwargs)\u001b[0m\n\u001b[1;32m    309\u001b[0m                     \u001b[0mstacklevel\u001b[0m\u001b[0;34m=\u001b[0m\u001b[0mstacklevel\u001b[0m\u001b[0;34m,\u001b[0m\u001b[0;34m\u001b[0m\u001b[0;34m\u001b[0m\u001b[0m\n\u001b[1;32m    310\u001b[0m                 )\n\u001b[0;32m--> 311\u001b[0;31m             \u001b[0;32mreturn\u001b[0m \u001b[0mfunc\u001b[0m\u001b[0;34m(\u001b[0m\u001b[0;34m*\u001b[0m\u001b[0margs\u001b[0m\u001b[0;34m,\u001b[0m \u001b[0;34m**\u001b[0m\u001b[0mkwargs\u001b[0m\u001b[0;34m)\u001b[0m\u001b[0;34m\u001b[0m\u001b[0;34m\u001b[0m\u001b[0m\n\u001b[0m\u001b[1;32m    312\u001b[0m \u001b[0;34m\u001b[0m\u001b[0m\n\u001b[1;32m    313\u001b[0m         \u001b[0;32mreturn\u001b[0m \u001b[0mwrapper\u001b[0m\u001b[0;34m\u001b[0m\u001b[0;34m\u001b[0m\u001b[0m\n",
      "\u001b[0;32m/BigData/miniconda3/lib/python3.8/site-packages/pandas/io/parsers/readers.py\u001b[0m in \u001b[0;36mread_csv\u001b[0;34m(filepath_or_buffer, sep, delimiter, header, names, index_col, usecols, squeeze, prefix, mangle_dupe_cols, dtype, engine, converters, true_values, false_values, skipinitialspace, skiprows, skipfooter, nrows, na_values, keep_default_na, na_filter, verbose, skip_blank_lines, parse_dates, infer_datetime_format, keep_date_col, date_parser, dayfirst, cache_dates, iterator, chunksize, compression, thousands, decimal, lineterminator, quotechar, quoting, doublequote, escapechar, comment, encoding, encoding_errors, dialect, error_bad_lines, warn_bad_lines, on_bad_lines, delim_whitespace, low_memory, memory_map, float_precision, storage_options)\u001b[0m\n\u001b[1;32m    584\u001b[0m     \u001b[0mkwds\u001b[0m\u001b[0;34m.\u001b[0m\u001b[0mupdate\u001b[0m\u001b[0;34m(\u001b[0m\u001b[0mkwds_defaults\u001b[0m\u001b[0;34m)\u001b[0m\u001b[0;34m\u001b[0m\u001b[0;34m\u001b[0m\u001b[0m\n\u001b[1;32m    585\u001b[0m \u001b[0;34m\u001b[0m\u001b[0m\n\u001b[0;32m--> 586\u001b[0;31m     \u001b[0;32mreturn\u001b[0m \u001b[0m_read\u001b[0m\u001b[0;34m(\u001b[0m\u001b[0mfilepath_or_buffer\u001b[0m\u001b[0;34m,\u001b[0m \u001b[0mkwds\u001b[0m\u001b[0;34m)\u001b[0m\u001b[0;34m\u001b[0m\u001b[0;34m\u001b[0m\u001b[0m\n\u001b[0m\u001b[1;32m    587\u001b[0m \u001b[0;34m\u001b[0m\u001b[0m\n\u001b[1;32m    588\u001b[0m \u001b[0;34m\u001b[0m\u001b[0m\n",
      "\u001b[0;32m/BigData/miniconda3/lib/python3.8/site-packages/pandas/io/parsers/readers.py\u001b[0m in \u001b[0;36m_read\u001b[0;34m(filepath_or_buffer, kwds)\u001b[0m\n\u001b[1;32m    480\u001b[0m \u001b[0;34m\u001b[0m\u001b[0m\n\u001b[1;32m    481\u001b[0m     \u001b[0;31m# Create the parser.\u001b[0m\u001b[0;34m\u001b[0m\u001b[0;34m\u001b[0m\u001b[0;34m\u001b[0m\u001b[0m\n\u001b[0;32m--> 482\u001b[0;31m     \u001b[0mparser\u001b[0m \u001b[0;34m=\u001b[0m \u001b[0mTextFileReader\u001b[0m\u001b[0;34m(\u001b[0m\u001b[0mfilepath_or_buffer\u001b[0m\u001b[0;34m,\u001b[0m \u001b[0;34m**\u001b[0m\u001b[0mkwds\u001b[0m\u001b[0;34m)\u001b[0m\u001b[0;34m\u001b[0m\u001b[0;34m\u001b[0m\u001b[0m\n\u001b[0m\u001b[1;32m    483\u001b[0m \u001b[0;34m\u001b[0m\u001b[0m\n\u001b[1;32m    484\u001b[0m     \u001b[0;32mif\u001b[0m \u001b[0mchunksize\u001b[0m \u001b[0;32mor\u001b[0m \u001b[0miterator\u001b[0m\u001b[0;34m:\u001b[0m\u001b[0;34m\u001b[0m\u001b[0;34m\u001b[0m\u001b[0m\n",
      "\u001b[0;32m/BigData/miniconda3/lib/python3.8/site-packages/pandas/io/parsers/readers.py\u001b[0m in \u001b[0;36m__init__\u001b[0;34m(self, f, engine, **kwds)\u001b[0m\n\u001b[1;32m    809\u001b[0m             \u001b[0mself\u001b[0m\u001b[0;34m.\u001b[0m\u001b[0moptions\u001b[0m\u001b[0;34m[\u001b[0m\u001b[0;34m\"has_index_names\"\u001b[0m\u001b[0;34m]\u001b[0m \u001b[0;34m=\u001b[0m \u001b[0mkwds\u001b[0m\u001b[0;34m[\u001b[0m\u001b[0;34m\"has_index_names\"\u001b[0m\u001b[0;34m]\u001b[0m\u001b[0;34m\u001b[0m\u001b[0;34m\u001b[0m\u001b[0m\n\u001b[1;32m    810\u001b[0m \u001b[0;34m\u001b[0m\u001b[0m\n\u001b[0;32m--> 811\u001b[0;31m         \u001b[0mself\u001b[0m\u001b[0;34m.\u001b[0m\u001b[0m_engine\u001b[0m \u001b[0;34m=\u001b[0m \u001b[0mself\u001b[0m\u001b[0;34m.\u001b[0m\u001b[0m_make_engine\u001b[0m\u001b[0;34m(\u001b[0m\u001b[0mself\u001b[0m\u001b[0;34m.\u001b[0m\u001b[0mengine\u001b[0m\u001b[0;34m)\u001b[0m\u001b[0;34m\u001b[0m\u001b[0;34m\u001b[0m\u001b[0m\n\u001b[0m\u001b[1;32m    812\u001b[0m \u001b[0;34m\u001b[0m\u001b[0m\n\u001b[1;32m    813\u001b[0m     \u001b[0;32mdef\u001b[0m \u001b[0mclose\u001b[0m\u001b[0;34m(\u001b[0m\u001b[0mself\u001b[0m\u001b[0;34m)\u001b[0m\u001b[0;34m:\u001b[0m\u001b[0;34m\u001b[0m\u001b[0;34m\u001b[0m\u001b[0m\n",
      "\u001b[0;32m/BigData/miniconda3/lib/python3.8/site-packages/pandas/io/parsers/readers.py\u001b[0m in \u001b[0;36m_make_engine\u001b[0;34m(self, engine)\u001b[0m\n\u001b[1;32m   1038\u001b[0m             )\n\u001b[1;32m   1039\u001b[0m         \u001b[0;31m# error: Too many arguments for \"ParserBase\"\u001b[0m\u001b[0;34m\u001b[0m\u001b[0;34m\u001b[0m\u001b[0;34m\u001b[0m\u001b[0m\n\u001b[0;32m-> 1040\u001b[0;31m         \u001b[0;32mreturn\u001b[0m \u001b[0mmapping\u001b[0m\u001b[0;34m[\u001b[0m\u001b[0mengine\u001b[0m\u001b[0;34m]\u001b[0m\u001b[0;34m(\u001b[0m\u001b[0mself\u001b[0m\u001b[0;34m.\u001b[0m\u001b[0mf\u001b[0m\u001b[0;34m,\u001b[0m \u001b[0;34m**\u001b[0m\u001b[0mself\u001b[0m\u001b[0;34m.\u001b[0m\u001b[0moptions\u001b[0m\u001b[0;34m)\u001b[0m  \u001b[0;31m# type: ignore[call-arg]\u001b[0m\u001b[0;34m\u001b[0m\u001b[0;34m\u001b[0m\u001b[0m\n\u001b[0m\u001b[1;32m   1041\u001b[0m \u001b[0;34m\u001b[0m\u001b[0m\n\u001b[1;32m   1042\u001b[0m     \u001b[0;32mdef\u001b[0m \u001b[0m_failover_to_python\u001b[0m\u001b[0;34m(\u001b[0m\u001b[0mself\u001b[0m\u001b[0;34m)\u001b[0m\u001b[0;34m:\u001b[0m\u001b[0;34m\u001b[0m\u001b[0;34m\u001b[0m\u001b[0m\n",
      "\u001b[0;32m/BigData/miniconda3/lib/python3.8/site-packages/pandas/io/parsers/c_parser_wrapper.py\u001b[0m in \u001b[0;36m__init__\u001b[0;34m(self, src, **kwds)\u001b[0m\n\u001b[1;32m     49\u001b[0m \u001b[0;34m\u001b[0m\u001b[0m\n\u001b[1;32m     50\u001b[0m         \u001b[0;31m# open handles\u001b[0m\u001b[0;34m\u001b[0m\u001b[0;34m\u001b[0m\u001b[0;34m\u001b[0m\u001b[0m\n\u001b[0;32m---> 51\u001b[0;31m         \u001b[0mself\u001b[0m\u001b[0;34m.\u001b[0m\u001b[0m_open_handles\u001b[0m\u001b[0;34m(\u001b[0m\u001b[0msrc\u001b[0m\u001b[0;34m,\u001b[0m \u001b[0mkwds\u001b[0m\u001b[0;34m)\u001b[0m\u001b[0;34m\u001b[0m\u001b[0;34m\u001b[0m\u001b[0m\n\u001b[0m\u001b[1;32m     52\u001b[0m         \u001b[0;32massert\u001b[0m \u001b[0mself\u001b[0m\u001b[0;34m.\u001b[0m\u001b[0mhandles\u001b[0m \u001b[0;32mis\u001b[0m \u001b[0;32mnot\u001b[0m \u001b[0;32mNone\u001b[0m\u001b[0;34m\u001b[0m\u001b[0;34m\u001b[0m\u001b[0m\n\u001b[1;32m     53\u001b[0m \u001b[0;34m\u001b[0m\u001b[0m\n",
      "\u001b[0;32m/BigData/miniconda3/lib/python3.8/site-packages/pandas/io/parsers/base_parser.py\u001b[0m in \u001b[0;36m_open_handles\u001b[0;34m(self, src, kwds)\u001b[0m\n\u001b[1;32m    220\u001b[0m         \u001b[0mLet\u001b[0m \u001b[0mthe\u001b[0m \u001b[0mreaders\u001b[0m \u001b[0mopen\u001b[0m \u001b[0mIOHandles\u001b[0m \u001b[0mafter\u001b[0m \u001b[0mthey\u001b[0m \u001b[0mare\u001b[0m \u001b[0mdone\u001b[0m \u001b[0;32mwith\u001b[0m \u001b[0mtheir\u001b[0m \u001b[0mpotential\u001b[0m \u001b[0mraises\u001b[0m\u001b[0;34m.\u001b[0m\u001b[0;34m\u001b[0m\u001b[0;34m\u001b[0m\u001b[0m\n\u001b[1;32m    221\u001b[0m         \"\"\"\n\u001b[0;32m--> 222\u001b[0;31m         self.handles = get_handle(\n\u001b[0m\u001b[1;32m    223\u001b[0m             \u001b[0msrc\u001b[0m\u001b[0;34m,\u001b[0m\u001b[0;34m\u001b[0m\u001b[0;34m\u001b[0m\u001b[0m\n\u001b[1;32m    224\u001b[0m             \u001b[0;34m\"r\"\u001b[0m\u001b[0;34m,\u001b[0m\u001b[0;34m\u001b[0m\u001b[0;34m\u001b[0m\u001b[0m\n",
      "\u001b[0;32m/BigData/miniconda3/lib/python3.8/site-packages/pandas/io/common.py\u001b[0m in \u001b[0;36mget_handle\u001b[0;34m(path_or_buf, mode, encoding, compression, memory_map, is_text, errors, storage_options)\u001b[0m\n\u001b[1;32m    700\u001b[0m         \u001b[0;32mif\u001b[0m \u001b[0mioargs\u001b[0m\u001b[0;34m.\u001b[0m\u001b[0mencoding\u001b[0m \u001b[0;32mand\u001b[0m \u001b[0;34m\"b\"\u001b[0m \u001b[0;32mnot\u001b[0m \u001b[0;32min\u001b[0m \u001b[0mioargs\u001b[0m\u001b[0;34m.\u001b[0m\u001b[0mmode\u001b[0m\u001b[0;34m:\u001b[0m\u001b[0;34m\u001b[0m\u001b[0;34m\u001b[0m\u001b[0m\n\u001b[1;32m    701\u001b[0m             \u001b[0;31m# Encoding\u001b[0m\u001b[0;34m\u001b[0m\u001b[0;34m\u001b[0m\u001b[0;34m\u001b[0m\u001b[0m\n\u001b[0;32m--> 702\u001b[0;31m             handle = open(\n\u001b[0m\u001b[1;32m    703\u001b[0m                 \u001b[0mhandle\u001b[0m\u001b[0;34m,\u001b[0m\u001b[0;34m\u001b[0m\u001b[0;34m\u001b[0m\u001b[0m\n\u001b[1;32m    704\u001b[0m                 \u001b[0mioargs\u001b[0m\u001b[0;34m.\u001b[0m\u001b[0mmode\u001b[0m\u001b[0;34m,\u001b[0m\u001b[0;34m\u001b[0m\u001b[0;34m\u001b[0m\u001b[0m\n",
      "\u001b[0;31mFileNotFoundError\u001b[0m: [Errno 2] No such file or directory: '../results/readCountsNormalizedWpToAEP.csv'"
     ]
    }
   ],
   "source": [
    "raw_counts = \"../results/readCountsNormalizedWpToAEP.csv\"\n",
    "raw_counts_df = pd.read_csv(raw_counts)"
   ]
  },
  {
   "cell_type": "code",
   "execution_count": null,
   "id": "c180c217",
   "metadata": {},
   "outputs": [],
   "source": [
    "raw_counts_df.head()"
   ]
  },
  {
   "cell_type": "code",
   "execution_count": null,
   "id": "6a8a7c79",
   "metadata": {},
   "outputs": [],
   "source": [
    "cpl_to_aep = \"../data/cpls_to_aep.csv\"\n",
    "cpls_to_aep_df = pd.read_csv(cpl_to_aep)"
   ]
  },
  {
   "cell_type": "code",
   "execution_count": null,
   "id": "c37e4eb5",
   "metadata": {},
   "outputs": [],
   "source": [
    "colnames = list(cpls_to_aep_df.columns)\n",
    "colnames[-1] = \"aep\"\n",
    "cpls_to_aep_df.columns = colnames\n",
    "cpls_to_aep_df.columns"
   ]
  },
  {
   "cell_type": "code",
   "execution_count": null,
   "id": "4887e878",
   "metadata": {},
   "outputs": [],
   "source": [
    "cpls_to_aep_df.head()"
   ]
  },
  {
   "cell_type": "code",
   "execution_count": null,
   "id": "ed256d4c",
   "metadata": {},
   "outputs": [],
   "source": [
    "# we need to translate the old aep number to the new aep_rs number ...\n",
    "from Bio import SeqIO\n",
    "from Bio.Seq import Seq\n",
    "from Bio.SeqRecord import SeqRecord\n",
    "from Bio.SeqFeature import SeqFeature, FeatureLocation"
   ]
  },
  {
   "cell_type": "code",
   "execution_count": null,
   "id": "a3a76fbd",
   "metadata": {},
   "outputs": [],
   "source": [
    "data_dir=\"../data/\"\n",
    "gbfile=data_dir+'GCF_002163715.1_ASM216371v1_genomic.gbff'\n",
    "\n",
    "records = []\n",
    "for record in SeqIO.parse(gbfile,'genbank'):\n",
    "    records.append(record)"
   ]
  },
  {
   "cell_type": "code",
   "execution_count": null,
   "id": "97e9a338",
   "metadata": {},
   "outputs": [],
   "source": [
    "old_to_new_locus_tag = {}\n",
    "for record in records:\n",
    "    for feature in record.features:   \n",
    "        if \"old_locus_tag\" in feature.qualifiers.keys():\n",
    "            \n",
    "            old_to_new_locus_tag[feature.qualifiers[\"old_locus_tag\"][0]] = feature.qualifiers[\"locus_tag\"][0]"
   ]
  },
  {
   "cell_type": "code",
   "execution_count": null,
   "id": "6493ae91",
   "metadata": {},
   "outputs": [],
   "source": [
    "raw_counts_df[\"aep\"] = raw_counts_df['aep'].apply(lambda x: x if x not in old_to_new_locus_tag.keys() else old_to_new_locus_tag[x])"
   ]
  },
  {
   "cell_type": "code",
   "execution_count": null,
   "id": "de4d2a41",
   "metadata": {},
   "outputs": [],
   "source": [
    "merged_df = cpls_to_aep_df.merge(raw_counts_df,on=\"aep\")\n",
    "merged_df.head()"
   ]
  },
  {
   "cell_type": "code",
   "execution_count": null,
   "id": "8c8779c8",
   "metadata": {},
   "outputs": [],
   "source": [
    "merged_df['exponential_phase'] = merged_df['strain ID'].apply(lambda x: 0.0 if x not in all_cpls.keys() else all_cpls[x][0])\n",
    "merged_df['stationary_phase'] = merged_df['strain ID'].apply(lambda x: 0.0 if x not in all_cpls.keys() else all_cpls[x][1])"
   ]
  },
  {
   "cell_type": "code",
   "execution_count": null,
   "id": "53e9b6d0",
   "metadata": {},
   "outputs": [],
   "source": [
    "merged_df"
   ]
  },
  {
   "cell_type": "code",
   "execution_count": null,
   "id": "eacf5803",
   "metadata": {},
   "outputs": [],
   "source": [
    "read_counts = []\n",
    "strain_id = []\n",
    "exp_phase = []\n",
    "stat_phase = []\n",
    "\n",
    "for rc, si, ep, sp in zip(merged_df[\"readCountMeanGSamples\"],merged_df[\"strain ID\"], merged_df[\"exponential_phase\"], merged_df[\"stationary_phase\"]):\n",
    "    if ep != 0.0 and sp != 0.0:\n",
    "        read_counts.append(rc)\n",
    "        strain_id.append(si)\n",
    "        exp_phase.append(ep)\n",
    "        stat_phase.append(sp)\n",
    "        \n"
   ]
  },
  {
   "cell_type": "code",
   "execution_count": null,
   "id": "56df78c3",
   "metadata": {},
   "outputs": [],
   "source": [
    "# + 1 because of CPL_0017\n",
    "len(read_counts) + 1 == len(all_cpls.keys())"
   ]
  },
  {
   "cell_type": "code",
   "execution_count": null,
   "id": "bcbe6c05",
   "metadata": {},
   "outputs": [],
   "source": [
    "# normalize values to be between 0 and 1\n",
    "read_counts_norm = (np.array(read_counts) - min(read_counts))/ (max(read_counts) - min(read_counts))\n",
    "exp_phase_norm = (np.array(exp_phase) - min(exp_phase))/ (max(exp_phase) - min(exp_phase))\n",
    "stat_phase_norm = (np.array(stat_phase) - min(stat_phase))/ (max(stat_phase) - min(stat_phase))"
   ]
  },
  {
   "cell_type": "code",
   "execution_count": null,
   "id": "52bbcf84",
   "metadata": {},
   "outputs": [],
   "source": [
    "def plot_norm_vs_flur_bar_plot(content:list,norm_counts:list,phase:list,savep:str, xlim=1, legend_position=\"best\", fsize=15, fsize_text=8, fig_size=(14,10)):\n",
    "\n",
    "    try:\n",
    "        if len(content) == len(stat_phase) == len(exp_phase):\n",
    "            width = 0.4\n",
    "            ind = np.arange(len(content))\n",
    "            \n",
    "            plt.figure(figsize=fig_size)\n",
    "            bar1 = plt.barh(ind, norm_counts, width, label=\"Scaled Mean Read Counts\", color=\"blue\", edgecolor=\"black\")\n",
    "            bar2 = plt.barh(ind + width, phase, width, label=\"Scaled RFP/GFP values in exp. phase\", color=\"orange\", edgecolor=\"black\")\n",
    "            \n",
    "            for rect in bar1 + bar2:\n",
    "                if rect.get_width() > 0:\n",
    "                    if rect.get_width() > 0.0099999999:\n",
    "                        if rect.get_width() > 0.1:\n",
    "                            plt.text(rect.get_width() + 0.022, rect.get_y(), f'{np.abs(rect.get_width()):.2f}', ha='center', va='bottom', fontsize=fsize_text)\n",
    "                        else:\n",
    "                            plt.text(rect.get_width()+ 0.022, rect.get_y(), f'{np.abs(rect.get_width()):.2f}', ha='center', va='bottom', fontsize=fsize_text)\n",
    "\n",
    "                    else:\n",
    "                        plt.text(rect.get_width() + 0.022, rect.get_y(), f'{np.abs(rect.get_width()):.3f}', ha='center', va='bottom', fontsize=fsize_text)\n",
    "\n",
    "            plt.ylabel(\"Curvibacter Promoter Library (CPL) identifier\", fontsize=fsize)\n",
    "            # plt.title(\"Comparison of CPL-promoter constructs in exponentially and stationary growth phases\")\n",
    "            plt.yticks(ind + width / 2, content, fontsize=fsize-2)\n",
    "            #plt.xlabel(\"RFP/GFP Values in exp. phase\\n Scaled (0-1) Mean Read Counts\", fontsize=17)\n",
    "            ax = plt.gca()\n",
    "\n",
    "            # Set the y-tick labels\n",
    "            ytick_labels = ax.get_yticklabels()\n",
    "            \n",
    "            promoters = [\"CPL0025\",\"CPL0095\",\"CPL0022\",\"CPL0017\"]\n",
    "\n",
    "            # Set the color for the specified indices\n",
    "            for label in ytick_labels:\n",
    "                if label.get_text() in promoters:\n",
    "                    label.set_color('red')\n",
    "            plt.xticks(fontsize=20)\n",
    "            plt.legend(loc=legend_position, fontsize=fsize-2)\n",
    "            plt.tight_layout()\n",
    "            plt.xlim(0,xlim)\n",
    "            plt.grid(axis=\"x\")\n",
    "            plt.savefig(savep)\n",
    "            #plt.close()\n",
    "        else:\n",
    "            raise Exception(\"[-] lists do not have the same length: content: {} stat_phase: {}  exp_phase: {}\"\n",
    "                            .format(len(content),len(stat_phase),len(exp_phase)))\n",
    "    except Exception as e:\n",
    "        raise Exception(\"[-] ERROR plotting phase bar plot with exception: {}\".format(e))"
   ]
  },
  {
   "cell_type": "code",
   "execution_count": null,
   "id": "7d730f34",
   "metadata": {},
   "outputs": [],
   "source": [
    "savep = \"../results/normalizedCounts_vs_exp_phase.png\"\n",
    "\n",
    "sorted_exp_phase = []\n",
    "sorted_read_counts = []\n",
    "sorted_cont = []\n",
    "sorted_non_norm_exp_phase = []\n",
    "sorted_non_norm_read_counts = []\n",
    "\n",
    "\n",
    "for exp, counts, cont, non_norm_exp, non_norm_counts in sorted(zip(exp_phase_norm,read_counts_norm,strain_id, exp_phase, read_counts)):\n",
    "    sorted_read_counts.append(counts)\n",
    "    sorted_exp_phase.append(exp)\n",
    "    sorted_cont.append(cont)\n",
    "    sorted_non_norm_exp_phase.append(non_norm_exp)\n",
    "    sorted_non_norm_read_counts.append(non_norm_counts)\n",
    "    \n",
    "plot_norm_vs_flur_bar_plot(sorted_cont, sorted_read_counts, sorted_exp_phase, savep, xlim=1.2, legend_position=\"center right\", fsize=20, fsize_text=10, fig_size=(14,14))"
   ]
  },
  {
   "cell_type": "code",
   "execution_count": null,
   "id": "05ec24ae",
   "metadata": {},
   "outputs": [],
   "source": [
    "savep = \"../results/normalizedCounts_vs_stat_phase.png\"\n",
    "plot_norm_vs_flur_bar_plot(strain_id, read_counts_norm, stat_phase_norm, savep, xlim=1.2, legend_position=\"lower right\", fsize=20, fsize_text=10, fig_size=(14,14))"
   ]
  },
  {
   "cell_type": "code",
   "execution_count": null,
   "id": "40f14143",
   "metadata": {},
   "outputs": [],
   "source": [
    "# none normalized (0-1) lists of exponential phase RFU values (RFP/GFP) and nroamlized read count data\n",
    "exp_phase_log = []\n",
    "read_counts_log = []\n",
    "cpls = []\n",
    "\n",
    "for exp, count, cpl in sorted(zip(exp_phase, read_counts,strain_id)):\n",
    "    \n",
    "    if exp != 0.0 and count != 0.0:\n",
    "        \n",
    "        exp_phase_log.append(np.log(exp))\n",
    "        read_counts_log.append(np.log(count))\n",
    "        cpls.append(cpl)\n",
    "    else:\n",
    "        if exp == 0.0:\n",
    "            exp = 0.0000001\n",
    "        if count == 0.0:\n",
    "            count = 0.0000001\n",
    "            \n",
    "        exp_phase_log.append(np.log(exp))\n",
    "        read_counts_log.append(np.log(count))\n",
    "        cpls.append(cpl)  \n",
    "\n",
    "savep = \"../results/exp_phase_log_vs_read_counts_log.png\""
   ]
  },
  {
   "cell_type": "code",
   "execution_count": null,
   "id": "94a72d60",
   "metadata": {},
   "outputs": [],
   "source": [
    "msize = np.interp(sorted_non_norm_exp_phase,  [min(sorted_non_norm_exp_phase), max(sorted_non_norm_exp_phase)], [100,1000])\n",
    "\n",
    "colormap = plt.get_cmap('viridis')  # You can choose a different colormap\n",
    "\n",
    "# Normalize the data to map it to colormap range\n",
    "norm = plt.Normalize(min(sorted_non_norm_read_counts), max(sorted_non_norm_read_counts))\n",
    "\n",
    "#hex_colors = [colormap(norm(value)) for value in sorted_non_norm_read_counts]\n",
    "#hex_colors = [plt.cm.colors.rgb2hex(color) for color in hex_colors]\n",
    "\n",
    "plt.figure(figsize=(12,8))\n",
    "#exp_phase_log, poly1d_fn(exp_phase_log), '--k', \n",
    "#plt.scatter(exp_phase_log,read_counts_log, \n",
    "#         s=msize,c=hex_colors, edgecolor=\"black\", alpha=0.8)\n",
    "\n",
    "plt.scatter(exp_phase_log,read_counts_log, edgecolor=\"black\", alpha=0.8)\n",
    "x1, y1 = [min(exp_phase_log), max(exp_phase_log)], [min(read_counts_log), max(read_counts_log)]\n",
    "print(x1,y1)\n",
    "plt.plot(x1, y1,'--k', alpha=0.6) #label=\"f(x,y) = x,y\"\n",
    "\n",
    "plt.xlabel(\"log10-transformed RFP/GFP values of mid-exponential growth phase\", fontsize=15)\n",
    "plt.ylabel(\"log10-transformed RNAseq mean read counts\", fontsize=15)\n",
    "#locs, labels = plt.xticks()\n",
    "plt.grid()\n",
    "\n",
    "for x,y,text in zip(exp_phase_log, read_counts_log, cpls):\n",
    "    if text == \"CPL0001\":\n",
    "        plt.text(x-0.05, y+.08, text, fontsize=12)\n",
    "    elif text == \"CPL0008\":\n",
    "        plt.text(x+0.07, y, text, fontsize=12)\n",
    "    elif text == \"CPL0005\":\n",
    "        plt.text(x+0.1, y-0.05, text, fontsize=12)\n",
    "\n",
    "    elif text == \"CPL0071\":\n",
    "        plt.text(x-.03, y-.22, text, fontsize=12)\n",
    "    elif text == \"CPL0112\":\n",
    "        plt.text(x+.03, y+.12, text, fontsize=12)\n",
    "    elif text == \"CPL0095\" or text == \"CPL0022\" or text == \"CPL0025\":\n",
    "        plt.text(x+.07, y+.08, text, fontsize=12, color=\"red\")\n",
    "    else:\n",
    "        plt.text(x+.07, y+.08, text, fontsize=12)\n",
    "#plt.xticks(exp_phase_log,cpls, rotation=95)\n",
    "\n",
    "\n",
    "\n",
    "#colorbar = plt.colorbar(plt.cm.ScalarMappable(cmap=colormap, norm=norm))\n",
    "#colorbar.set_label(\"mean read counts\", fontsize=15) \n",
    "\n",
    "\n",
    "plt.xlim(-7.2,-0.5)\n",
    "plt.tight_layout()\n",
    "#plt.legend(loc=\"lower right\", fontsize=15)\n",
    "\n",
    "\n",
    "\n",
    "plt.savefig(savep, dpi=400)"
   ]
  },
  {
   "cell_type": "markdown",
   "id": "7e0be99b",
   "metadata": {},
   "source": [
    "# calculate GC content"
   ]
  },
  {
   "cell_type": "code",
   "execution_count": null,
   "id": "4090e498",
   "metadata": {},
   "outputs": [],
   "source": [
    "old_to_new_locus_tag"
   ]
  },
  {
   "cell_type": "code",
   "execution_count": null,
   "id": "f78d3c07",
   "metadata": {},
   "outputs": [],
   "source": [
    "highlight_sequences = {}\n",
    "with open(\"../results/target_promoter_sequences.faa\",\"r\") as targetfile:\n",
    "    for line in targetfile.readlines():\n",
    "        if line.startswith(\">\"):\n",
    "            aep = line.rstrip().split(\">\")[1]\n",
    "            if aep in old_to_new_locus_tag.keys():\n",
    "                aep = old_to_new_locus_tag[aep]\n",
    "            highlight_sequences[aep] = \"\"\n",
    "        else:\n",
    "            highlight_sequences[aep] += line.rstrip()"
   ]
  },
  {
   "cell_type": "code",
   "execution_count": null,
   "id": "eadf6e22",
   "metadata": {},
   "outputs": [],
   "source": [
    "for promoter in highlight_sequences.keys():\n",
    "    gc_content = (highlight_sequences[promoter].count(\"G\") + highlight_sequences[promoter].count(\"C\")) / len(highlight_sequences[promoter])\n",
    "    print(promoter, gc_content, len(highlight_sequences[promoter]))"
   ]
  },
  {
   "cell_type": "markdown",
   "id": "85c12f5d",
   "metadata": {},
   "source": [
    "# identified motifs"
   ]
  },
  {
   "cell_type": "code",
   "execution_count": null,
   "id": "125ebc44",
   "metadata": {},
   "outputs": [],
   "source": [
    "sites = pd.read_csv(\"../results/xstreme/sites.tsv\", delimiter=\"\\t\")"
   ]
  },
  {
   "cell_type": "code",
   "execution_count": null,
   "id": "f3d175a7",
   "metadata": {},
   "outputs": [],
   "source": [
    "sites.head()"
   ]
  },
  {
   "cell_type": "code",
   "execution_count": null,
   "id": "eab96130",
   "metadata": {},
   "outputs": [],
   "source": [
    "sites['new_AEP'] = sites.seq_ID.apply(lambda x: old_to_new_locus_tag[x] if x in old_to_new_locus_tag.keys() else x)"
   ]
  },
  {
   "cell_type": "code",
   "execution_count": null,
   "id": "c80ccc5c",
   "metadata": {},
   "outputs": [],
   "source": [
    "import docx"
   ]
  },
  {
   "cell_type": "code",
   "execution_count": null,
   "id": "5aaffb8c",
   "metadata": {},
   "outputs": [],
   "source": [
    "sites.head()"
   ]
  },
  {
   "cell_type": "code",
   "execution_count": null,
   "id": "acfd0a84",
   "metadata": {},
   "outputs": [],
   "source": [
    "aep_to_cpl = pd.read_csv(\"../data/cpls_to_aep.csv\")"
   ]
  },
  {
   "cell_type": "code",
   "execution_count": null,
   "id": "16e4ba7b",
   "metadata": {},
   "outputs": [],
   "source": [
    "aep_to_cpl_dict"
   ]
  },
  {
   "cell_type": "code",
   "execution_count": null,
   "id": "9a7a9680",
   "metadata": {},
   "outputs": [],
   "source": [
    "aep_to_cpl_dict = {}\n",
    "for strain, aep in zip(aep_to_cpl['strain ID'],aep_to_cpl['AEP nr']):\n",
    "    aep_to_cpl_dict[aep] = strain"
   ]
  },
  {
   "cell_type": "code",
   "execution_count": null,
   "id": "a29de859",
   "metadata": {},
   "outputs": [],
   "source": [
    "aep_to_cpl_dict[\"AEP_RS12495\"] = \"CPL0073\""
   ]
  },
  {
   "cell_type": "code",
   "execution_count": null,
   "id": "f318ea55",
   "metadata": {},
   "outputs": [],
   "source": [
    "aep_to_cpl_dict"
   ]
  },
  {
   "cell_type": "code",
   "execution_count": null,
   "id": "cb1e78e1",
   "metadata": {},
   "outputs": [],
   "source": [
    "sites['CPL'] = sites.new_AEP.apply(lambda x: aep_to_cpl_dict[x] if x in aep_to_cpl_dict.keys() else x)"
   ]
  },
  {
   "cell_type": "code",
   "execution_count": null,
   "id": "91ae70b9",
   "metadata": {},
   "outputs": [],
   "source": [
    "sMotifs = {}\n",
    "sMotifs[\"1\"] = \"AmrZ,LasR: P. aeruginosa; BldD: S. coelicolor\"\n",
    "sMotifs[\"2\"] = \"CodY: B. anthracis\"\n",
    "sMotifs[\"3\"] = \"LexA: V.parahaemolyticus\"\n",
    "sMotifs[\"4\"] = \"ExpR: S. meliloti; DosR: M.tuberculosis\"\n",
    "sMotifs[\"5\"] = \"CodY: S.pyogenes; CodY: L.lactis; CcpA: S.pneumoniae\""
   ]
  },
  {
   "cell_type": "code",
   "execution_count": null,
   "id": "7acf26bf",
   "metadata": {},
   "outputs": [],
   "source": [
    "excel_savep = \"../results/tf_binding_site_motifs.xlsx\""
   ]
  },
  {
   "cell_type": "code",
   "execution_count": null,
   "id": "9a984b72",
   "metadata": {},
   "outputs": [],
   "source": [
    "for cpl in all_cpls.keys():\n",
    "    if cpl not in list(sites[['CPL','motif_ID','site_Start','site_End','site_Sequence']].CPL):\n",
    "        print(cpl)"
   ]
  },
  {
   "cell_type": "code",
   "execution_count": null,
   "id": "45832871",
   "metadata": {},
   "outputs": [],
   "source": [
    "sites[['CPL','motif_ID','site_Start','site_End','site_Sequence']].head()"
   ]
  },
  {
   "cell_type": "code",
   "execution_count": null,
   "id": "07ff2c4f",
   "metadata": {},
   "outputs": [],
   "source": [
    "sites_t = sites[['CPL','motif_ID','site_Start','site_End','site_Sequence']].copy()\n",
    "sites_t['similarMotifs'] = sites_t.motif_ID.apply(lambda x: sMotifs[x.split(\"-\")[0]])\n",
    "sites_t.sort_values(by=\"CPL\",inplace=True)\n",
    "sites_t.to_excel(excel_savep)"
   ]
  }
 ],
 "metadata": {
  "kernelspec": {
   "display_name": "Python 3",
   "language": "python",
   "name": "python3"
  },
  "language_info": {
   "codemirror_mode": {
    "name": "ipython",
    "version": 3
   },
   "file_extension": ".py",
   "mimetype": "text/x-python",
   "name": "python",
   "nbconvert_exporter": "python",
   "pygments_lexer": "ipython3",
   "version": "3.8.12"
  }
 },
 "nbformat": 4,
 "nbformat_minor": 5
}
